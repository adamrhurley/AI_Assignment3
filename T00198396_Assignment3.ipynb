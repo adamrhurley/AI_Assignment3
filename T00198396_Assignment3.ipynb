{
  "nbformat": 4,
  "nbformat_minor": 0,
  "metadata": {
    "colab": {
      "name": "T00198396_Assignment3.ipynb",
      "provenance": [],
      "collapsed_sections": [
        "4FS5Qm3sewLu",
        "WCF6I17xe5Y6",
        "Dq5-xuOAsNhC",
        "WJx0vU4UsdVe",
        "ET7EUmQez57q",
        "Z0heGtb852mK",
        "TZFWdRct8iid",
        "tplyAmpeJyh4",
        "Nn8RRSZmKUL2",
        "bc8tLbnKRFC9"
      ],
      "authorship_tag": "ABX9TyNuwcxwqCV2V9y6NlpaXSWd",
      "include_colab_link": true
    },
    "kernelspec": {
      "name": "python3",
      "display_name": "Python 3"
    },
    "language_info": {
      "name": "python"
    }
  },
  "cells": [
    {
      "cell_type": "markdown",
      "metadata": {
        "id": "view-in-github",
        "colab_type": "text"
      },
      "source": [
        "<a href=\"https://colab.research.google.com/github/adamrhurley/AI_Assignment3/blob/main/T00198396_Assignment3.ipynb\" target=\"_parent\"><img src=\"https://colab.research.google.com/assets/colab-badge.svg\" alt=\"Open In Colab\"/></a>"
      ]
    },
    {
      "cell_type": "markdown",
      "metadata": {
        "id": "JfkPZF7tk50p"
      },
      "source": [
        "# Intro & References\n",
        "\n",
        "\n",
        "For this project I am investigating how to work with imbalanced data and using different tactics to combat it.\n",
        "\n",
        "The dataset that I used can be found here:\n",
        "\n",
        "https://www.kaggle.com/fedesoriano/company-bankruptcy-prediction\n",
        "\n",
        "This is the link to download it:\n",
        "\n",
        "https://www.kaggle.com/fedesoriano/company-bankruptcy-prediction/download\n",
        "\n",
        "This dataset has 95 different attributes relating to the bussinesses and another which says if the business became bankrupt (1) or not (0)\n",
        "\n",
        "I found some tactics for combatting unbalanced data on these sites:\n",
        "\n",
        "https://machinelearningmastery.com/tactics-to-combat-imbalanced-classes-in-your-machine-learning-dataset/\n",
        "\n",
        "https://elitedatascience.com/imbalanced-classes\n",
        "\n",
        "https://machinelearningmastery.com/model-based-outlier-detection-and-removal-in-python/\n"
      ]
    },
    {
      "cell_type": "markdown",
      "metadata": {
        "id": "4FS5Qm3sewLu"
      },
      "source": [
        "# Imports and Dataframe"
      ]
    },
    {
      "cell_type": "code",
      "metadata": {
        "id": "kiLmnX187dHa",
        "colab": {
          "base_uri": "https://localhost:8080/"
        },
        "outputId": "d1a24a71-a0c8-4530-9124-db914c0e054c"
      },
      "source": [
        "import matplotlib.pyplot as plt\n",
        "import pandas as pd\n",
        "import io\n",
        "from sklearn.svm import LinearSVC\n",
        "from sklearn.model_selection import train_test_split\n",
        "from sklearn.model_selection import cross_val_score\n",
        "from sklearn.metrics import confusion_matrix\n",
        "from sklearn.metrics import plot_confusion_matrix\n",
        "from sklearn.metrics import classification_report\n",
        "from sklearn.metrics import cohen_kappa_score\n",
        "from imblearn.over_sampling import SMOTE\n",
        "from sklearn.linear_model import LogisticRegression\n",
        "from sklearn.metrics import roc_curve\n",
        "from sklearn.metrics import roc_auc_score\n",
        "from matplotlib import pyplot\n",
        "from sklearn.metrics import precision_recall_curve\n",
        "from sklearn.metrics import f1_score\n",
        "from sklearn.metrics import auc"
      ],
      "execution_count": null,
      "outputs": [
        {
          "output_type": "stream",
          "text": [
            "/usr/local/lib/python3.7/dist-packages/sklearn/externals/six.py:31: FutureWarning: The module is deprecated in version 0.21 and will be removed in version 0.23 since we've dropped support for Python 2.7. Please rely on the official version of six (https://pypi.org/project/six/).\n",
            "  \"(https://pypi.org/project/six/).\", FutureWarning)\n",
            "/usr/local/lib/python3.7/dist-packages/sklearn/utils/deprecation.py:144: FutureWarning: The sklearn.neighbors.base module is  deprecated in version 0.22 and will be removed in version 0.24. The corresponding classes / functions should instead be imported from sklearn.neighbors. Anything that cannot be imported from sklearn.neighbors is now part of the private API.\n",
            "  warnings.warn(message, FutureWarning)\n"
          ],
          "name": "stderr"
        }
      ]
    },
    {
      "cell_type": "code",
      "metadata": {
        "colab": {
          "resources": {
            "http://localhost:8080/nbextensions/google.colab/files.js": {
              "data": "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",
              "ok": true,
              "headers": [
                [
                  "content-type",
                  "application/javascript"
                ]
              ],
              "status": 200,
              "status_text": ""
            }
          },
          "base_uri": "https://localhost:8080/",
          "height": 73
        },
        "id": "-FJspiuO7qEp",
        "outputId": "50e3e4fb-ca93-4619-f154-c0b43de59815"
      },
      "source": [
        "from google.colab import files\n",
        "uploaded = files.upload()"
      ],
      "execution_count": null,
      "outputs": [
        {
          "output_type": "display_data",
          "data": {
            "text/html": [
              "\n",
              "     <input type=\"file\" id=\"files-97ef949c-45d6-49f6-8a54-aac8d5c58088\" name=\"files[]\" multiple disabled\n",
              "        style=\"border:none\" />\n",
              "     <output id=\"result-97ef949c-45d6-49f6-8a54-aac8d5c58088\">\n",
              "      Upload widget is only available when the cell has been executed in the\n",
              "      current browser session. Please rerun this cell to enable.\n",
              "      </output>\n",
              "      <script src=\"/nbextensions/google.colab/files.js\"></script> "
            ],
            "text/plain": [
              "<IPython.core.display.HTML object>"
            ]
          },
          "metadata": {
            "tags": []
          }
        },
        {
          "output_type": "stream",
          "text": [
            "Saving data.csv to data.csv\n"
          ],
          "name": "stdout"
        }
      ]
    },
    {
      "cell_type": "code",
      "metadata": {
        "id": "QjvtZzk-7tT5"
      },
      "source": [
        "df = pd.read_csv(io.BytesIO(uploaded['data.csv']))"
      ],
      "execution_count": null,
      "outputs": []
    },
    {
      "cell_type": "code",
      "metadata": {
        "colab": {
          "base_uri": "https://localhost:8080/",
          "height": 368
        },
        "id": "ywk7w9PXgdOi",
        "outputId": "44077642-4734-407f-e61b-a1f2bcb6bddc"
      },
      "source": [
        "df.head()"
      ],
      "execution_count": null,
      "outputs": [
        {
          "output_type": "execute_result",
          "data": {
            "text/html": [
              "<div>\n",
              "<style scoped>\n",
              "    .dataframe tbody tr th:only-of-type {\n",
              "        vertical-align: middle;\n",
              "    }\n",
              "\n",
              "    .dataframe tbody tr th {\n",
              "        vertical-align: top;\n",
              "    }\n",
              "\n",
              "    .dataframe thead th {\n",
              "        text-align: right;\n",
              "    }\n",
              "</style>\n",
              "<table border=\"1\" class=\"dataframe\">\n",
              "  <thead>\n",
              "    <tr style=\"text-align: right;\">\n",
              "      <th></th>\n",
              "      <th>Bankrupt?</th>\n",
              "      <th>ROA(C) before interest and depreciation before interest</th>\n",
              "      <th>ROA(A) before interest and % after tax</th>\n",
              "      <th>ROA(B) before interest and depreciation after tax</th>\n",
              "      <th>Operating Gross Margin</th>\n",
              "      <th>Realized Sales Gross Margin</th>\n",
              "      <th>Operating Profit Rate</th>\n",
              "      <th>Pre-tax net Interest Rate</th>\n",
              "      <th>After-tax net Interest Rate</th>\n",
              "      <th>Non-industry income and expenditure/revenue</th>\n",
              "      <th>Continuous interest rate (after tax)</th>\n",
              "      <th>Operating Expense Rate</th>\n",
              "      <th>Research and development expense rate</th>\n",
              "      <th>Cash flow rate</th>\n",
              "      <th>Interest-bearing debt interest rate</th>\n",
              "      <th>Tax rate (A)</th>\n",
              "      <th>Net Value Per Share (B)</th>\n",
              "      <th>Net Value Per Share (A)</th>\n",
              "      <th>Net Value Per Share (C)</th>\n",
              "      <th>Persistent EPS in the Last Four Seasons</th>\n",
              "      <th>Cash Flow Per Share</th>\n",
              "      <th>Revenue Per Share (Yuan ¥)</th>\n",
              "      <th>Operating Profit Per Share (Yuan ¥)</th>\n",
              "      <th>Per Share Net profit before tax (Yuan ¥)</th>\n",
              "      <th>Realized Sales Gross Profit Growth Rate</th>\n",
              "      <th>Operating Profit Growth Rate</th>\n",
              "      <th>After-tax Net Profit Growth Rate</th>\n",
              "      <th>Regular Net Profit Growth Rate</th>\n",
              "      <th>Continuous Net Profit Growth Rate</th>\n",
              "      <th>Total Asset Growth Rate</th>\n",
              "      <th>Net Value Growth Rate</th>\n",
              "      <th>Total Asset Return Growth Rate Ratio</th>\n",
              "      <th>Cash Reinvestment %</th>\n",
              "      <th>Current Ratio</th>\n",
              "      <th>Quick Ratio</th>\n",
              "      <th>Interest Expense Ratio</th>\n",
              "      <th>Total debt/Total net worth</th>\n",
              "      <th>Debt ratio %</th>\n",
              "      <th>Net worth/Assets</th>\n",
              "      <th>Long-term fund suitability ratio (A)</th>\n",
              "      <th>...</th>\n",
              "      <th>Current Assets/Total Assets</th>\n",
              "      <th>Cash/Total Assets</th>\n",
              "      <th>Quick Assets/Current Liability</th>\n",
              "      <th>Cash/Current Liability</th>\n",
              "      <th>Current Liability to Assets</th>\n",
              "      <th>Operating Funds to Liability</th>\n",
              "      <th>Inventory/Working Capital</th>\n",
              "      <th>Inventory/Current Liability</th>\n",
              "      <th>Current Liabilities/Liability</th>\n",
              "      <th>Working Capital/Equity</th>\n",
              "      <th>Current Liabilities/Equity</th>\n",
              "      <th>Long-term Liability to Current Assets</th>\n",
              "      <th>Retained Earnings to Total Assets</th>\n",
              "      <th>Total income/Total expense</th>\n",
              "      <th>Total expense/Assets</th>\n",
              "      <th>Current Asset Turnover Rate</th>\n",
              "      <th>Quick Asset Turnover Rate</th>\n",
              "      <th>Working capitcal Turnover Rate</th>\n",
              "      <th>Cash Turnover Rate</th>\n",
              "      <th>Cash Flow to Sales</th>\n",
              "      <th>Fixed Assets to Assets</th>\n",
              "      <th>Current Liability to Liability</th>\n",
              "      <th>Current Liability to Equity</th>\n",
              "      <th>Equity to Long-term Liability</th>\n",
              "      <th>Cash Flow to Total Assets</th>\n",
              "      <th>Cash Flow to Liability</th>\n",
              "      <th>CFO to Assets</th>\n",
              "      <th>Cash Flow to Equity</th>\n",
              "      <th>Current Liability to Current Assets</th>\n",
              "      <th>Liability-Assets Flag</th>\n",
              "      <th>Net Income to Total Assets</th>\n",
              "      <th>Total assets to GNP price</th>\n",
              "      <th>No-credit Interval</th>\n",
              "      <th>Gross Profit to Sales</th>\n",
              "      <th>Net Income to Stockholder's Equity</th>\n",
              "      <th>Liability to Equity</th>\n",
              "      <th>Degree of Financial Leverage (DFL)</th>\n",
              "      <th>Interest Coverage Ratio (Interest expense to EBIT)</th>\n",
              "      <th>Net Income Flag</th>\n",
              "      <th>Equity to Liability</th>\n",
              "    </tr>\n",
              "  </thead>\n",
              "  <tbody>\n",
              "    <tr>\n",
              "      <th>0</th>\n",
              "      <td>1</td>\n",
              "      <td>0.370594</td>\n",
              "      <td>0.424389</td>\n",
              "      <td>0.405750</td>\n",
              "      <td>0.601457</td>\n",
              "      <td>0.601457</td>\n",
              "      <td>0.998969</td>\n",
              "      <td>0.796887</td>\n",
              "      <td>0.808809</td>\n",
              "      <td>0.302646</td>\n",
              "      <td>0.780985</td>\n",
              "      <td>1.256969e-04</td>\n",
              "      <td>0.0</td>\n",
              "      <td>0.458143</td>\n",
              "      <td>0.000725</td>\n",
              "      <td>0.0</td>\n",
              "      <td>0.147950</td>\n",
              "      <td>0.147950</td>\n",
              "      <td>0.147950</td>\n",
              "      <td>0.169141</td>\n",
              "      <td>0.311664</td>\n",
              "      <td>0.017560</td>\n",
              "      <td>0.095921</td>\n",
              "      <td>0.138736</td>\n",
              "      <td>0.022102</td>\n",
              "      <td>0.848195</td>\n",
              "      <td>0.688979</td>\n",
              "      <td>0.688979</td>\n",
              "      <td>0.217535</td>\n",
              "      <td>4.980000e+09</td>\n",
              "      <td>0.000327</td>\n",
              "      <td>0.263100</td>\n",
              "      <td>0.363725</td>\n",
              "      <td>0.002259</td>\n",
              "      <td>0.001208</td>\n",
              "      <td>0.629951</td>\n",
              "      <td>0.021266</td>\n",
              "      <td>0.207576</td>\n",
              "      <td>0.792424</td>\n",
              "      <td>0.005024</td>\n",
              "      <td>...</td>\n",
              "      <td>0.190643</td>\n",
              "      <td>0.004094</td>\n",
              "      <td>0.001997</td>\n",
              "      <td>1.473360e-04</td>\n",
              "      <td>0.147308</td>\n",
              "      <td>0.334015</td>\n",
              "      <td>0.276920</td>\n",
              "      <td>0.001036</td>\n",
              "      <td>0.676269</td>\n",
              "      <td>0.721275</td>\n",
              "      <td>0.339077</td>\n",
              "      <td>0.025592</td>\n",
              "      <td>0.903225</td>\n",
              "      <td>0.002022</td>\n",
              "      <td>0.064856</td>\n",
              "      <td>7.010000e+08</td>\n",
              "      <td>6.550000e+09</td>\n",
              "      <td>0.593831</td>\n",
              "      <td>4.580000e+08</td>\n",
              "      <td>0.671568</td>\n",
              "      <td>0.424206</td>\n",
              "      <td>0.676269</td>\n",
              "      <td>0.339077</td>\n",
              "      <td>0.126549</td>\n",
              "      <td>0.637555</td>\n",
              "      <td>0.458609</td>\n",
              "      <td>0.520382</td>\n",
              "      <td>0.312905</td>\n",
              "      <td>0.118250</td>\n",
              "      <td>0</td>\n",
              "      <td>0.716845</td>\n",
              "      <td>0.009219</td>\n",
              "      <td>0.622879</td>\n",
              "      <td>0.601453</td>\n",
              "      <td>0.827890</td>\n",
              "      <td>0.290202</td>\n",
              "      <td>0.026601</td>\n",
              "      <td>0.564050</td>\n",
              "      <td>1</td>\n",
              "      <td>0.016469</td>\n",
              "    </tr>\n",
              "    <tr>\n",
              "      <th>1</th>\n",
              "      <td>1</td>\n",
              "      <td>0.464291</td>\n",
              "      <td>0.538214</td>\n",
              "      <td>0.516730</td>\n",
              "      <td>0.610235</td>\n",
              "      <td>0.610235</td>\n",
              "      <td>0.998946</td>\n",
              "      <td>0.797380</td>\n",
              "      <td>0.809301</td>\n",
              "      <td>0.303556</td>\n",
              "      <td>0.781506</td>\n",
              "      <td>2.897851e-04</td>\n",
              "      <td>0.0</td>\n",
              "      <td>0.461867</td>\n",
              "      <td>0.000647</td>\n",
              "      <td>0.0</td>\n",
              "      <td>0.182251</td>\n",
              "      <td>0.182251</td>\n",
              "      <td>0.182251</td>\n",
              "      <td>0.208944</td>\n",
              "      <td>0.318137</td>\n",
              "      <td>0.021144</td>\n",
              "      <td>0.093722</td>\n",
              "      <td>0.169918</td>\n",
              "      <td>0.022080</td>\n",
              "      <td>0.848088</td>\n",
              "      <td>0.689693</td>\n",
              "      <td>0.689702</td>\n",
              "      <td>0.217620</td>\n",
              "      <td>6.110000e+09</td>\n",
              "      <td>0.000443</td>\n",
              "      <td>0.264516</td>\n",
              "      <td>0.376709</td>\n",
              "      <td>0.006016</td>\n",
              "      <td>0.004039</td>\n",
              "      <td>0.635172</td>\n",
              "      <td>0.012502</td>\n",
              "      <td>0.171176</td>\n",
              "      <td>0.828824</td>\n",
              "      <td>0.005059</td>\n",
              "      <td>...</td>\n",
              "      <td>0.182419</td>\n",
              "      <td>0.014948</td>\n",
              "      <td>0.004136</td>\n",
              "      <td>1.383910e-03</td>\n",
              "      <td>0.056963</td>\n",
              "      <td>0.341106</td>\n",
              "      <td>0.289642</td>\n",
              "      <td>0.005210</td>\n",
              "      <td>0.308589</td>\n",
              "      <td>0.731975</td>\n",
              "      <td>0.329740</td>\n",
              "      <td>0.023947</td>\n",
              "      <td>0.931065</td>\n",
              "      <td>0.002226</td>\n",
              "      <td>0.025516</td>\n",
              "      <td>1.065198e-04</td>\n",
              "      <td>7.700000e+09</td>\n",
              "      <td>0.593916</td>\n",
              "      <td>2.490000e+09</td>\n",
              "      <td>0.671570</td>\n",
              "      <td>0.468828</td>\n",
              "      <td>0.308589</td>\n",
              "      <td>0.329740</td>\n",
              "      <td>0.120916</td>\n",
              "      <td>0.641100</td>\n",
              "      <td>0.459001</td>\n",
              "      <td>0.567101</td>\n",
              "      <td>0.314163</td>\n",
              "      <td>0.047775</td>\n",
              "      <td>0</td>\n",
              "      <td>0.795297</td>\n",
              "      <td>0.008323</td>\n",
              "      <td>0.623652</td>\n",
              "      <td>0.610237</td>\n",
              "      <td>0.839969</td>\n",
              "      <td>0.283846</td>\n",
              "      <td>0.264577</td>\n",
              "      <td>0.570175</td>\n",
              "      <td>1</td>\n",
              "      <td>0.020794</td>\n",
              "    </tr>\n",
              "    <tr>\n",
              "      <th>2</th>\n",
              "      <td>1</td>\n",
              "      <td>0.426071</td>\n",
              "      <td>0.499019</td>\n",
              "      <td>0.472295</td>\n",
              "      <td>0.601450</td>\n",
              "      <td>0.601364</td>\n",
              "      <td>0.998857</td>\n",
              "      <td>0.796403</td>\n",
              "      <td>0.808388</td>\n",
              "      <td>0.302035</td>\n",
              "      <td>0.780284</td>\n",
              "      <td>2.361297e-04</td>\n",
              "      <td>25500000.0</td>\n",
              "      <td>0.458521</td>\n",
              "      <td>0.000790</td>\n",
              "      <td>0.0</td>\n",
              "      <td>0.177911</td>\n",
              "      <td>0.177911</td>\n",
              "      <td>0.193713</td>\n",
              "      <td>0.180581</td>\n",
              "      <td>0.307102</td>\n",
              "      <td>0.005944</td>\n",
              "      <td>0.092338</td>\n",
              "      <td>0.142803</td>\n",
              "      <td>0.022760</td>\n",
              "      <td>0.848094</td>\n",
              "      <td>0.689463</td>\n",
              "      <td>0.689470</td>\n",
              "      <td>0.217601</td>\n",
              "      <td>7.280000e+09</td>\n",
              "      <td>0.000396</td>\n",
              "      <td>0.264184</td>\n",
              "      <td>0.368913</td>\n",
              "      <td>0.011543</td>\n",
              "      <td>0.005348</td>\n",
              "      <td>0.629631</td>\n",
              "      <td>0.021248</td>\n",
              "      <td>0.207516</td>\n",
              "      <td>0.792484</td>\n",
              "      <td>0.005100</td>\n",
              "      <td>...</td>\n",
              "      <td>0.602806</td>\n",
              "      <td>0.000991</td>\n",
              "      <td>0.006302</td>\n",
              "      <td>5.340000e+09</td>\n",
              "      <td>0.098162</td>\n",
              "      <td>0.336731</td>\n",
              "      <td>0.277456</td>\n",
              "      <td>0.013879</td>\n",
              "      <td>0.446027</td>\n",
              "      <td>0.742729</td>\n",
              "      <td>0.334777</td>\n",
              "      <td>0.003715</td>\n",
              "      <td>0.909903</td>\n",
              "      <td>0.002060</td>\n",
              "      <td>0.021387</td>\n",
              "      <td>1.791094e-03</td>\n",
              "      <td>1.022676e-03</td>\n",
              "      <td>0.594502</td>\n",
              "      <td>7.610000e+08</td>\n",
              "      <td>0.671571</td>\n",
              "      <td>0.276179</td>\n",
              "      <td>0.446027</td>\n",
              "      <td>0.334777</td>\n",
              "      <td>0.117922</td>\n",
              "      <td>0.642765</td>\n",
              "      <td>0.459254</td>\n",
              "      <td>0.538491</td>\n",
              "      <td>0.314515</td>\n",
              "      <td>0.025346</td>\n",
              "      <td>0</td>\n",
              "      <td>0.774670</td>\n",
              "      <td>0.040003</td>\n",
              "      <td>0.623841</td>\n",
              "      <td>0.601449</td>\n",
              "      <td>0.836774</td>\n",
              "      <td>0.290189</td>\n",
              "      <td>0.026555</td>\n",
              "      <td>0.563706</td>\n",
              "      <td>1</td>\n",
              "      <td>0.016474</td>\n",
              "    </tr>\n",
              "    <tr>\n",
              "      <th>3</th>\n",
              "      <td>1</td>\n",
              "      <td>0.399844</td>\n",
              "      <td>0.451265</td>\n",
              "      <td>0.457733</td>\n",
              "      <td>0.583541</td>\n",
              "      <td>0.583541</td>\n",
              "      <td>0.998700</td>\n",
              "      <td>0.796967</td>\n",
              "      <td>0.808966</td>\n",
              "      <td>0.303350</td>\n",
              "      <td>0.781241</td>\n",
              "      <td>1.078888e-04</td>\n",
              "      <td>0.0</td>\n",
              "      <td>0.465705</td>\n",
              "      <td>0.000449</td>\n",
              "      <td>0.0</td>\n",
              "      <td>0.154187</td>\n",
              "      <td>0.154187</td>\n",
              "      <td>0.154187</td>\n",
              "      <td>0.193722</td>\n",
              "      <td>0.321674</td>\n",
              "      <td>0.014368</td>\n",
              "      <td>0.077762</td>\n",
              "      <td>0.148603</td>\n",
              "      <td>0.022046</td>\n",
              "      <td>0.848005</td>\n",
              "      <td>0.689110</td>\n",
              "      <td>0.689110</td>\n",
              "      <td>0.217568</td>\n",
              "      <td>4.880000e+09</td>\n",
              "      <td>0.000382</td>\n",
              "      <td>0.263371</td>\n",
              "      <td>0.384077</td>\n",
              "      <td>0.004194</td>\n",
              "      <td>0.002896</td>\n",
              "      <td>0.630228</td>\n",
              "      <td>0.009572</td>\n",
              "      <td>0.151465</td>\n",
              "      <td>0.848535</td>\n",
              "      <td>0.005047</td>\n",
              "      <td>...</td>\n",
              "      <td>0.225815</td>\n",
              "      <td>0.018851</td>\n",
              "      <td>0.002961</td>\n",
              "      <td>1.010646e-03</td>\n",
              "      <td>0.098715</td>\n",
              "      <td>0.348716</td>\n",
              "      <td>0.276580</td>\n",
              "      <td>0.003540</td>\n",
              "      <td>0.615848</td>\n",
              "      <td>0.729825</td>\n",
              "      <td>0.331509</td>\n",
              "      <td>0.022165</td>\n",
              "      <td>0.906902</td>\n",
              "      <td>0.001831</td>\n",
              "      <td>0.024161</td>\n",
              "      <td>8.140000e+09</td>\n",
              "      <td>6.050000e+09</td>\n",
              "      <td>0.593889</td>\n",
              "      <td>2.030000e+09</td>\n",
              "      <td>0.671519</td>\n",
              "      <td>0.559144</td>\n",
              "      <td>0.615848</td>\n",
              "      <td>0.331509</td>\n",
              "      <td>0.120760</td>\n",
              "      <td>0.579039</td>\n",
              "      <td>0.448518</td>\n",
              "      <td>0.604105</td>\n",
              "      <td>0.302382</td>\n",
              "      <td>0.067250</td>\n",
              "      <td>0</td>\n",
              "      <td>0.739555</td>\n",
              "      <td>0.003252</td>\n",
              "      <td>0.622929</td>\n",
              "      <td>0.583538</td>\n",
              "      <td>0.834697</td>\n",
              "      <td>0.281721</td>\n",
              "      <td>0.026697</td>\n",
              "      <td>0.564663</td>\n",
              "      <td>1</td>\n",
              "      <td>0.023982</td>\n",
              "    </tr>\n",
              "    <tr>\n",
              "      <th>4</th>\n",
              "      <td>1</td>\n",
              "      <td>0.465022</td>\n",
              "      <td>0.538432</td>\n",
              "      <td>0.522298</td>\n",
              "      <td>0.598783</td>\n",
              "      <td>0.598783</td>\n",
              "      <td>0.998973</td>\n",
              "      <td>0.797366</td>\n",
              "      <td>0.809304</td>\n",
              "      <td>0.303475</td>\n",
              "      <td>0.781550</td>\n",
              "      <td>7.890000e+09</td>\n",
              "      <td>0.0</td>\n",
              "      <td>0.462746</td>\n",
              "      <td>0.000686</td>\n",
              "      <td>0.0</td>\n",
              "      <td>0.167502</td>\n",
              "      <td>0.167502</td>\n",
              "      <td>0.167502</td>\n",
              "      <td>0.212537</td>\n",
              "      <td>0.319162</td>\n",
              "      <td>0.029690</td>\n",
              "      <td>0.096898</td>\n",
              "      <td>0.168412</td>\n",
              "      <td>0.022096</td>\n",
              "      <td>0.848258</td>\n",
              "      <td>0.689697</td>\n",
              "      <td>0.689697</td>\n",
              "      <td>0.217626</td>\n",
              "      <td>5.510000e+09</td>\n",
              "      <td>0.000439</td>\n",
              "      <td>0.265218</td>\n",
              "      <td>0.379690</td>\n",
              "      <td>0.006022</td>\n",
              "      <td>0.003727</td>\n",
              "      <td>0.636055</td>\n",
              "      <td>0.005150</td>\n",
              "      <td>0.106509</td>\n",
              "      <td>0.893491</td>\n",
              "      <td>0.005303</td>\n",
              "      <td>...</td>\n",
              "      <td>0.358380</td>\n",
              "      <td>0.014161</td>\n",
              "      <td>0.004275</td>\n",
              "      <td>6.804636e-04</td>\n",
              "      <td>0.110195</td>\n",
              "      <td>0.344639</td>\n",
              "      <td>0.287913</td>\n",
              "      <td>0.004869</td>\n",
              "      <td>0.975007</td>\n",
              "      <td>0.732000</td>\n",
              "      <td>0.330726</td>\n",
              "      <td>0.000000</td>\n",
              "      <td>0.913850</td>\n",
              "      <td>0.002224</td>\n",
              "      <td>0.026385</td>\n",
              "      <td>6.680000e+09</td>\n",
              "      <td>5.050000e+09</td>\n",
              "      <td>0.593915</td>\n",
              "      <td>8.240000e+08</td>\n",
              "      <td>0.671563</td>\n",
              "      <td>0.309555</td>\n",
              "      <td>0.975007</td>\n",
              "      <td>0.330726</td>\n",
              "      <td>0.110933</td>\n",
              "      <td>0.622374</td>\n",
              "      <td>0.454411</td>\n",
              "      <td>0.578469</td>\n",
              "      <td>0.311567</td>\n",
              "      <td>0.047725</td>\n",
              "      <td>0</td>\n",
              "      <td>0.795016</td>\n",
              "      <td>0.003878</td>\n",
              "      <td>0.623521</td>\n",
              "      <td>0.598782</td>\n",
              "      <td>0.839973</td>\n",
              "      <td>0.278514</td>\n",
              "      <td>0.024752</td>\n",
              "      <td>0.575617</td>\n",
              "      <td>1</td>\n",
              "      <td>0.035490</td>\n",
              "    </tr>\n",
              "  </tbody>\n",
              "</table>\n",
              "<p>5 rows × 96 columns</p>\n",
              "</div>"
            ],
            "text/plain": [
              "   Bankrupt?  ...   Equity to Liability\n",
              "0          1  ...              0.016469\n",
              "1          1  ...              0.020794\n",
              "2          1  ...              0.016474\n",
              "3          1  ...              0.023982\n",
              "4          1  ...              0.035490\n",
              "\n",
              "[5 rows x 96 columns]"
            ]
          },
          "metadata": {
            "tags": []
          },
          "execution_count": 4
        }
      ]
    },
    {
      "cell_type": "markdown",
      "metadata": {
        "id": "WCF6I17xe5Y6"
      },
      "source": [
        "# Data Analysis"
      ]
    },
    {
      "cell_type": "code",
      "metadata": {
        "colab": {
          "base_uri": "https://localhost:8080/",
          "height": 424
        },
        "id": "xvUvcZKn9XuR",
        "outputId": "7c3041ad-9aef-4bff-bf8e-bb3d7d510017"
      },
      "source": [
        "df.describe()"
      ],
      "execution_count": null,
      "outputs": [
        {
          "output_type": "execute_result",
          "data": {
            "text/html": [
              "<div>\n",
              "<style scoped>\n",
              "    .dataframe tbody tr th:only-of-type {\n",
              "        vertical-align: middle;\n",
              "    }\n",
              "\n",
              "    .dataframe tbody tr th {\n",
              "        vertical-align: top;\n",
              "    }\n",
              "\n",
              "    .dataframe thead th {\n",
              "        text-align: right;\n",
              "    }\n",
              "</style>\n",
              "<table border=\"1\" class=\"dataframe\">\n",
              "  <thead>\n",
              "    <tr style=\"text-align: right;\">\n",
              "      <th></th>\n",
              "      <th>Bankrupt?</th>\n",
              "      <th>ROA(C) before interest and depreciation before interest</th>\n",
              "      <th>ROA(A) before interest and % after tax</th>\n",
              "      <th>ROA(B) before interest and depreciation after tax</th>\n",
              "      <th>Operating Gross Margin</th>\n",
              "      <th>Realized Sales Gross Margin</th>\n",
              "      <th>Operating Profit Rate</th>\n",
              "      <th>Pre-tax net Interest Rate</th>\n",
              "      <th>After-tax net Interest Rate</th>\n",
              "      <th>Non-industry income and expenditure/revenue</th>\n",
              "      <th>Continuous interest rate (after tax)</th>\n",
              "      <th>Operating Expense Rate</th>\n",
              "      <th>Research and development expense rate</th>\n",
              "      <th>Cash flow rate</th>\n",
              "      <th>Interest-bearing debt interest rate</th>\n",
              "      <th>Tax rate (A)</th>\n",
              "      <th>Net Value Per Share (B)</th>\n",
              "      <th>Net Value Per Share (A)</th>\n",
              "      <th>Net Value Per Share (C)</th>\n",
              "      <th>Persistent EPS in the Last Four Seasons</th>\n",
              "      <th>Cash Flow Per Share</th>\n",
              "      <th>Revenue Per Share (Yuan ¥)</th>\n",
              "      <th>Operating Profit Per Share (Yuan ¥)</th>\n",
              "      <th>Per Share Net profit before tax (Yuan ¥)</th>\n",
              "      <th>Realized Sales Gross Profit Growth Rate</th>\n",
              "      <th>Operating Profit Growth Rate</th>\n",
              "      <th>After-tax Net Profit Growth Rate</th>\n",
              "      <th>Regular Net Profit Growth Rate</th>\n",
              "      <th>Continuous Net Profit Growth Rate</th>\n",
              "      <th>Total Asset Growth Rate</th>\n",
              "      <th>Net Value Growth Rate</th>\n",
              "      <th>Total Asset Return Growth Rate Ratio</th>\n",
              "      <th>Cash Reinvestment %</th>\n",
              "      <th>Current Ratio</th>\n",
              "      <th>Quick Ratio</th>\n",
              "      <th>Interest Expense Ratio</th>\n",
              "      <th>Total debt/Total net worth</th>\n",
              "      <th>Debt ratio %</th>\n",
              "      <th>Net worth/Assets</th>\n",
              "      <th>Long-term fund suitability ratio (A)</th>\n",
              "      <th>...</th>\n",
              "      <th>Current Assets/Total Assets</th>\n",
              "      <th>Cash/Total Assets</th>\n",
              "      <th>Quick Assets/Current Liability</th>\n",
              "      <th>Cash/Current Liability</th>\n",
              "      <th>Current Liability to Assets</th>\n",
              "      <th>Operating Funds to Liability</th>\n",
              "      <th>Inventory/Working Capital</th>\n",
              "      <th>Inventory/Current Liability</th>\n",
              "      <th>Current Liabilities/Liability</th>\n",
              "      <th>Working Capital/Equity</th>\n",
              "      <th>Current Liabilities/Equity</th>\n",
              "      <th>Long-term Liability to Current Assets</th>\n",
              "      <th>Retained Earnings to Total Assets</th>\n",
              "      <th>Total income/Total expense</th>\n",
              "      <th>Total expense/Assets</th>\n",
              "      <th>Current Asset Turnover Rate</th>\n",
              "      <th>Quick Asset Turnover Rate</th>\n",
              "      <th>Working capitcal Turnover Rate</th>\n",
              "      <th>Cash Turnover Rate</th>\n",
              "      <th>Cash Flow to Sales</th>\n",
              "      <th>Fixed Assets to Assets</th>\n",
              "      <th>Current Liability to Liability</th>\n",
              "      <th>Current Liability to Equity</th>\n",
              "      <th>Equity to Long-term Liability</th>\n",
              "      <th>Cash Flow to Total Assets</th>\n",
              "      <th>Cash Flow to Liability</th>\n",
              "      <th>CFO to Assets</th>\n",
              "      <th>Cash Flow to Equity</th>\n",
              "      <th>Current Liability to Current Assets</th>\n",
              "      <th>Liability-Assets Flag</th>\n",
              "      <th>Net Income to Total Assets</th>\n",
              "      <th>Total assets to GNP price</th>\n",
              "      <th>No-credit Interval</th>\n",
              "      <th>Gross Profit to Sales</th>\n",
              "      <th>Net Income to Stockholder's Equity</th>\n",
              "      <th>Liability to Equity</th>\n",
              "      <th>Degree of Financial Leverage (DFL)</th>\n",
              "      <th>Interest Coverage Ratio (Interest expense to EBIT)</th>\n",
              "      <th>Net Income Flag</th>\n",
              "      <th>Equity to Liability</th>\n",
              "    </tr>\n",
              "  </thead>\n",
              "  <tbody>\n",
              "    <tr>\n",
              "      <th>count</th>\n",
              "      <td>6819.000000</td>\n",
              "      <td>6819.000000</td>\n",
              "      <td>6819.000000</td>\n",
              "      <td>6819.000000</td>\n",
              "      <td>6819.000000</td>\n",
              "      <td>6819.000000</td>\n",
              "      <td>6819.000000</td>\n",
              "      <td>6819.000000</td>\n",
              "      <td>6819.000000</td>\n",
              "      <td>6819.000000</td>\n",
              "      <td>6819.000000</td>\n",
              "      <td>6.819000e+03</td>\n",
              "      <td>6.819000e+03</td>\n",
              "      <td>6819.000000</td>\n",
              "      <td>6.819000e+03</td>\n",
              "      <td>6819.000000</td>\n",
              "      <td>6819.000000</td>\n",
              "      <td>6819.000000</td>\n",
              "      <td>6819.000000</td>\n",
              "      <td>6819.000000</td>\n",
              "      <td>6819.000000</td>\n",
              "      <td>6.819000e+03</td>\n",
              "      <td>6819.000000</td>\n",
              "      <td>6819.000000</td>\n",
              "      <td>6819.000000</td>\n",
              "      <td>6819.000000</td>\n",
              "      <td>6819.000000</td>\n",
              "      <td>6819.000000</td>\n",
              "      <td>6819.000000</td>\n",
              "      <td>6.819000e+03</td>\n",
              "      <td>6.819000e+03</td>\n",
              "      <td>6819.000000</td>\n",
              "      <td>6819.000000</td>\n",
              "      <td>6.819000e+03</td>\n",
              "      <td>6.819000e+03</td>\n",
              "      <td>6819.000000</td>\n",
              "      <td>6.819000e+03</td>\n",
              "      <td>6819.000000</td>\n",
              "      <td>6819.000000</td>\n",
              "      <td>6819.000000</td>\n",
              "      <td>...</td>\n",
              "      <td>6819.000000</td>\n",
              "      <td>6819.000000</td>\n",
              "      <td>6.819000e+03</td>\n",
              "      <td>6.819000e+03</td>\n",
              "      <td>6819.000000</td>\n",
              "      <td>6819.000000</td>\n",
              "      <td>6819.000000</td>\n",
              "      <td>6.819000e+03</td>\n",
              "      <td>6819.000000</td>\n",
              "      <td>6819.000000</td>\n",
              "      <td>6819.000000</td>\n",
              "      <td>6.819000e+03</td>\n",
              "      <td>6819.000000</td>\n",
              "      <td>6819.000000</td>\n",
              "      <td>6819.000000</td>\n",
              "      <td>6.819000e+03</td>\n",
              "      <td>6.819000e+03</td>\n",
              "      <td>6819.000000</td>\n",
              "      <td>6.819000e+03</td>\n",
              "      <td>6819.000000</td>\n",
              "      <td>6.819000e+03</td>\n",
              "      <td>6819.000000</td>\n",
              "      <td>6819.000000</td>\n",
              "      <td>6819.000000</td>\n",
              "      <td>6819.000000</td>\n",
              "      <td>6819.000000</td>\n",
              "      <td>6819.000000</td>\n",
              "      <td>6819.000000</td>\n",
              "      <td>6819.000000</td>\n",
              "      <td>6819.000000</td>\n",
              "      <td>6819.000000</td>\n",
              "      <td>6.819000e+03</td>\n",
              "      <td>6819.000000</td>\n",
              "      <td>6819.000000</td>\n",
              "      <td>6819.000000</td>\n",
              "      <td>6819.000000</td>\n",
              "      <td>6819.000000</td>\n",
              "      <td>6819.000000</td>\n",
              "      <td>6819.0</td>\n",
              "      <td>6819.000000</td>\n",
              "    </tr>\n",
              "    <tr>\n",
              "      <th>mean</th>\n",
              "      <td>0.032263</td>\n",
              "      <td>0.505180</td>\n",
              "      <td>0.558625</td>\n",
              "      <td>0.553589</td>\n",
              "      <td>0.607948</td>\n",
              "      <td>0.607929</td>\n",
              "      <td>0.998755</td>\n",
              "      <td>0.797190</td>\n",
              "      <td>0.809084</td>\n",
              "      <td>0.303623</td>\n",
              "      <td>0.781381</td>\n",
              "      <td>1.995347e+09</td>\n",
              "      <td>1.950427e+09</td>\n",
              "      <td>0.467431</td>\n",
              "      <td>1.644801e+07</td>\n",
              "      <td>0.115001</td>\n",
              "      <td>0.190661</td>\n",
              "      <td>0.190633</td>\n",
              "      <td>0.190672</td>\n",
              "      <td>0.228813</td>\n",
              "      <td>0.323482</td>\n",
              "      <td>1.328641e+06</td>\n",
              "      <td>0.109091</td>\n",
              "      <td>0.184361</td>\n",
              "      <td>0.022408</td>\n",
              "      <td>0.847980</td>\n",
              "      <td>0.689146</td>\n",
              "      <td>0.689150</td>\n",
              "      <td>0.217639</td>\n",
              "      <td>5.508097e+09</td>\n",
              "      <td>1.566212e+06</td>\n",
              "      <td>0.264248</td>\n",
              "      <td>0.379677</td>\n",
              "      <td>4.032850e+05</td>\n",
              "      <td>8.376595e+06</td>\n",
              "      <td>0.630991</td>\n",
              "      <td>4.416337e+06</td>\n",
              "      <td>0.113177</td>\n",
              "      <td>0.886823</td>\n",
              "      <td>0.008783</td>\n",
              "      <td>...</td>\n",
              "      <td>0.522273</td>\n",
              "      <td>0.124095</td>\n",
              "      <td>3.592902e+06</td>\n",
              "      <td>3.715999e+07</td>\n",
              "      <td>0.090673</td>\n",
              "      <td>0.353828</td>\n",
              "      <td>0.277395</td>\n",
              "      <td>5.580680e+07</td>\n",
              "      <td>0.761599</td>\n",
              "      <td>0.735817</td>\n",
              "      <td>0.331410</td>\n",
              "      <td>5.416004e+07</td>\n",
              "      <td>0.934733</td>\n",
              "      <td>0.002549</td>\n",
              "      <td>0.029184</td>\n",
              "      <td>1.195856e+09</td>\n",
              "      <td>2.163735e+09</td>\n",
              "      <td>0.594006</td>\n",
              "      <td>2.471977e+09</td>\n",
              "      <td>0.671531</td>\n",
              "      <td>1.220121e+06</td>\n",
              "      <td>0.761599</td>\n",
              "      <td>0.331410</td>\n",
              "      <td>0.115645</td>\n",
              "      <td>0.649731</td>\n",
              "      <td>0.461849</td>\n",
              "      <td>0.593415</td>\n",
              "      <td>0.315582</td>\n",
              "      <td>0.031506</td>\n",
              "      <td>0.001173</td>\n",
              "      <td>0.807760</td>\n",
              "      <td>1.862942e+07</td>\n",
              "      <td>0.623915</td>\n",
              "      <td>0.607946</td>\n",
              "      <td>0.840402</td>\n",
              "      <td>0.280365</td>\n",
              "      <td>0.027541</td>\n",
              "      <td>0.565358</td>\n",
              "      <td>1.0</td>\n",
              "      <td>0.047578</td>\n",
              "    </tr>\n",
              "    <tr>\n",
              "      <th>std</th>\n",
              "      <td>0.176710</td>\n",
              "      <td>0.060686</td>\n",
              "      <td>0.065620</td>\n",
              "      <td>0.061595</td>\n",
              "      <td>0.016934</td>\n",
              "      <td>0.016916</td>\n",
              "      <td>0.013010</td>\n",
              "      <td>0.012869</td>\n",
              "      <td>0.013601</td>\n",
              "      <td>0.011163</td>\n",
              "      <td>0.012679</td>\n",
              "      <td>3.237684e+09</td>\n",
              "      <td>2.598292e+09</td>\n",
              "      <td>0.017036</td>\n",
              "      <td>1.082750e+08</td>\n",
              "      <td>0.138667</td>\n",
              "      <td>0.033390</td>\n",
              "      <td>0.033474</td>\n",
              "      <td>0.033480</td>\n",
              "      <td>0.033263</td>\n",
              "      <td>0.017611</td>\n",
              "      <td>5.170709e+07</td>\n",
              "      <td>0.027942</td>\n",
              "      <td>0.033180</td>\n",
              "      <td>0.012079</td>\n",
              "      <td>0.010752</td>\n",
              "      <td>0.013853</td>\n",
              "      <td>0.013910</td>\n",
              "      <td>0.010063</td>\n",
              "      <td>2.897718e+09</td>\n",
              "      <td>1.141594e+08</td>\n",
              "      <td>0.009634</td>\n",
              "      <td>0.020737</td>\n",
              "      <td>3.330216e+07</td>\n",
              "      <td>2.446847e+08</td>\n",
              "      <td>0.011238</td>\n",
              "      <td>1.684069e+08</td>\n",
              "      <td>0.053920</td>\n",
              "      <td>0.053920</td>\n",
              "      <td>0.028153</td>\n",
              "      <td>...</td>\n",
              "      <td>0.218112</td>\n",
              "      <td>0.139251</td>\n",
              "      <td>1.716209e+08</td>\n",
              "      <td>5.103509e+08</td>\n",
              "      <td>0.050290</td>\n",
              "      <td>0.035147</td>\n",
              "      <td>0.010469</td>\n",
              "      <td>5.820516e+08</td>\n",
              "      <td>0.206677</td>\n",
              "      <td>0.011678</td>\n",
              "      <td>0.013488</td>\n",
              "      <td>5.702706e+08</td>\n",
              "      <td>0.025564</td>\n",
              "      <td>0.012093</td>\n",
              "      <td>0.027149</td>\n",
              "      <td>2.821161e+09</td>\n",
              "      <td>3.374944e+09</td>\n",
              "      <td>0.008959</td>\n",
              "      <td>2.938623e+09</td>\n",
              "      <td>0.009341</td>\n",
              "      <td>1.007542e+08</td>\n",
              "      <td>0.206677</td>\n",
              "      <td>0.013488</td>\n",
              "      <td>0.019529</td>\n",
              "      <td>0.047372</td>\n",
              "      <td>0.029943</td>\n",
              "      <td>0.058561</td>\n",
              "      <td>0.012961</td>\n",
              "      <td>0.030845</td>\n",
              "      <td>0.034234</td>\n",
              "      <td>0.040332</td>\n",
              "      <td>3.764501e+08</td>\n",
              "      <td>0.012290</td>\n",
              "      <td>0.016934</td>\n",
              "      <td>0.014523</td>\n",
              "      <td>0.014463</td>\n",
              "      <td>0.015668</td>\n",
              "      <td>0.013214</td>\n",
              "      <td>0.0</td>\n",
              "      <td>0.050014</td>\n",
              "    </tr>\n",
              "    <tr>\n",
              "      <th>min</th>\n",
              "      <td>0.000000</td>\n",
              "      <td>0.000000</td>\n",
              "      <td>0.000000</td>\n",
              "      <td>0.000000</td>\n",
              "      <td>0.000000</td>\n",
              "      <td>0.000000</td>\n",
              "      <td>0.000000</td>\n",
              "      <td>0.000000</td>\n",
              "      <td>0.000000</td>\n",
              "      <td>0.000000</td>\n",
              "      <td>0.000000</td>\n",
              "      <td>0.000000e+00</td>\n",
              "      <td>0.000000e+00</td>\n",
              "      <td>0.000000</td>\n",
              "      <td>0.000000e+00</td>\n",
              "      <td>0.000000</td>\n",
              "      <td>0.000000</td>\n",
              "      <td>0.000000</td>\n",
              "      <td>0.000000</td>\n",
              "      <td>0.000000</td>\n",
              "      <td>0.000000</td>\n",
              "      <td>0.000000e+00</td>\n",
              "      <td>0.000000</td>\n",
              "      <td>0.000000</td>\n",
              "      <td>0.000000</td>\n",
              "      <td>0.000000</td>\n",
              "      <td>0.000000</td>\n",
              "      <td>0.000000</td>\n",
              "      <td>0.000000</td>\n",
              "      <td>0.000000e+00</td>\n",
              "      <td>0.000000e+00</td>\n",
              "      <td>0.000000</td>\n",
              "      <td>0.000000</td>\n",
              "      <td>0.000000e+00</td>\n",
              "      <td>0.000000e+00</td>\n",
              "      <td>0.000000</td>\n",
              "      <td>0.000000e+00</td>\n",
              "      <td>0.000000</td>\n",
              "      <td>0.000000</td>\n",
              "      <td>0.000000</td>\n",
              "      <td>...</td>\n",
              "      <td>0.000000</td>\n",
              "      <td>0.000000</td>\n",
              "      <td>0.000000e+00</td>\n",
              "      <td>0.000000e+00</td>\n",
              "      <td>0.000000</td>\n",
              "      <td>0.000000</td>\n",
              "      <td>0.000000</td>\n",
              "      <td>0.000000e+00</td>\n",
              "      <td>0.000000</td>\n",
              "      <td>0.000000</td>\n",
              "      <td>0.000000</td>\n",
              "      <td>0.000000e+00</td>\n",
              "      <td>0.000000</td>\n",
              "      <td>0.000000</td>\n",
              "      <td>0.000000</td>\n",
              "      <td>0.000000e+00</td>\n",
              "      <td>0.000000e+00</td>\n",
              "      <td>0.000000</td>\n",
              "      <td>0.000000e+00</td>\n",
              "      <td>0.000000</td>\n",
              "      <td>0.000000e+00</td>\n",
              "      <td>0.000000</td>\n",
              "      <td>0.000000</td>\n",
              "      <td>0.000000</td>\n",
              "      <td>0.000000</td>\n",
              "      <td>0.000000</td>\n",
              "      <td>0.000000</td>\n",
              "      <td>0.000000</td>\n",
              "      <td>0.000000</td>\n",
              "      <td>0.000000</td>\n",
              "      <td>0.000000</td>\n",
              "      <td>0.000000e+00</td>\n",
              "      <td>0.000000</td>\n",
              "      <td>0.000000</td>\n",
              "      <td>0.000000</td>\n",
              "      <td>0.000000</td>\n",
              "      <td>0.000000</td>\n",
              "      <td>0.000000</td>\n",
              "      <td>1.0</td>\n",
              "      <td>0.000000</td>\n",
              "    </tr>\n",
              "    <tr>\n",
              "      <th>25%</th>\n",
              "      <td>0.000000</td>\n",
              "      <td>0.476527</td>\n",
              "      <td>0.535543</td>\n",
              "      <td>0.527277</td>\n",
              "      <td>0.600445</td>\n",
              "      <td>0.600434</td>\n",
              "      <td>0.998969</td>\n",
              "      <td>0.797386</td>\n",
              "      <td>0.809312</td>\n",
              "      <td>0.303466</td>\n",
              "      <td>0.781567</td>\n",
              "      <td>1.566874e-04</td>\n",
              "      <td>1.281880e-04</td>\n",
              "      <td>0.461558</td>\n",
              "      <td>2.030203e-04</td>\n",
              "      <td>0.000000</td>\n",
              "      <td>0.173613</td>\n",
              "      <td>0.173613</td>\n",
              "      <td>0.173676</td>\n",
              "      <td>0.214711</td>\n",
              "      <td>0.317748</td>\n",
              "      <td>1.563138e-02</td>\n",
              "      <td>0.096083</td>\n",
              "      <td>0.170370</td>\n",
              "      <td>0.022065</td>\n",
              "      <td>0.847984</td>\n",
              "      <td>0.689270</td>\n",
              "      <td>0.689270</td>\n",
              "      <td>0.217580</td>\n",
              "      <td>4.860000e+09</td>\n",
              "      <td>4.409689e-04</td>\n",
              "      <td>0.263759</td>\n",
              "      <td>0.374749</td>\n",
              "      <td>7.555047e-03</td>\n",
              "      <td>4.725903e-03</td>\n",
              "      <td>0.630612</td>\n",
              "      <td>3.007049e-03</td>\n",
              "      <td>0.072891</td>\n",
              "      <td>0.851196</td>\n",
              "      <td>0.005244</td>\n",
              "      <td>...</td>\n",
              "      <td>0.352845</td>\n",
              "      <td>0.033543</td>\n",
              "      <td>5.239776e-03</td>\n",
              "      <td>1.973008e-03</td>\n",
              "      <td>0.053301</td>\n",
              "      <td>0.341023</td>\n",
              "      <td>0.277034</td>\n",
              "      <td>3.163148e-03</td>\n",
              "      <td>0.626981</td>\n",
              "      <td>0.733612</td>\n",
              "      <td>0.328096</td>\n",
              "      <td>0.000000e+00</td>\n",
              "      <td>0.931097</td>\n",
              "      <td>0.002236</td>\n",
              "      <td>0.014567</td>\n",
              "      <td>1.456236e-04</td>\n",
              "      <td>1.417149e-04</td>\n",
              "      <td>0.593934</td>\n",
              "      <td>2.735337e-04</td>\n",
              "      <td>0.671565</td>\n",
              "      <td>8.536037e-02</td>\n",
              "      <td>0.626981</td>\n",
              "      <td>0.328096</td>\n",
              "      <td>0.110933</td>\n",
              "      <td>0.633265</td>\n",
              "      <td>0.457116</td>\n",
              "      <td>0.565987</td>\n",
              "      <td>0.312995</td>\n",
              "      <td>0.018034</td>\n",
              "      <td>0.000000</td>\n",
              "      <td>0.796750</td>\n",
              "      <td>9.036205e-04</td>\n",
              "      <td>0.623636</td>\n",
              "      <td>0.600443</td>\n",
              "      <td>0.840115</td>\n",
              "      <td>0.276944</td>\n",
              "      <td>0.026791</td>\n",
              "      <td>0.565158</td>\n",
              "      <td>1.0</td>\n",
              "      <td>0.024477</td>\n",
              "    </tr>\n",
              "    <tr>\n",
              "      <th>50%</th>\n",
              "      <td>0.000000</td>\n",
              "      <td>0.502706</td>\n",
              "      <td>0.559802</td>\n",
              "      <td>0.552278</td>\n",
              "      <td>0.605997</td>\n",
              "      <td>0.605976</td>\n",
              "      <td>0.999022</td>\n",
              "      <td>0.797464</td>\n",
              "      <td>0.809375</td>\n",
              "      <td>0.303525</td>\n",
              "      <td>0.781635</td>\n",
              "      <td>2.777589e-04</td>\n",
              "      <td>5.090000e+08</td>\n",
              "      <td>0.465080</td>\n",
              "      <td>3.210321e-04</td>\n",
              "      <td>0.073489</td>\n",
              "      <td>0.184400</td>\n",
              "      <td>0.184400</td>\n",
              "      <td>0.184400</td>\n",
              "      <td>0.224544</td>\n",
              "      <td>0.322487</td>\n",
              "      <td>2.737571e-02</td>\n",
              "      <td>0.104226</td>\n",
              "      <td>0.179709</td>\n",
              "      <td>0.022102</td>\n",
              "      <td>0.848044</td>\n",
              "      <td>0.689439</td>\n",
              "      <td>0.689439</td>\n",
              "      <td>0.217598</td>\n",
              "      <td>6.400000e+09</td>\n",
              "      <td>4.619555e-04</td>\n",
              "      <td>0.264050</td>\n",
              "      <td>0.380425</td>\n",
              "      <td>1.058717e-02</td>\n",
              "      <td>7.412472e-03</td>\n",
              "      <td>0.630698</td>\n",
              "      <td>5.546284e-03</td>\n",
              "      <td>0.111407</td>\n",
              "      <td>0.888593</td>\n",
              "      <td>0.005665</td>\n",
              "      <td>...</td>\n",
              "      <td>0.514830</td>\n",
              "      <td>0.074887</td>\n",
              "      <td>7.908898e-03</td>\n",
              "      <td>4.903886e-03</td>\n",
              "      <td>0.082705</td>\n",
              "      <td>0.348597</td>\n",
              "      <td>0.277178</td>\n",
              "      <td>6.497335e-03</td>\n",
              "      <td>0.806881</td>\n",
              "      <td>0.736013</td>\n",
              "      <td>0.329685</td>\n",
              "      <td>1.974619e-03</td>\n",
              "      <td>0.937672</td>\n",
              "      <td>0.002336</td>\n",
              "      <td>0.022674</td>\n",
              "      <td>1.987816e-04</td>\n",
              "      <td>2.247728e-04</td>\n",
              "      <td>0.593963</td>\n",
              "      <td>1.080000e+09</td>\n",
              "      <td>0.671574</td>\n",
              "      <td>1.968810e-01</td>\n",
              "      <td>0.806881</td>\n",
              "      <td>0.329685</td>\n",
              "      <td>0.112340</td>\n",
              "      <td>0.645366</td>\n",
              "      <td>0.459750</td>\n",
              "      <td>0.593266</td>\n",
              "      <td>0.314953</td>\n",
              "      <td>0.027597</td>\n",
              "      <td>0.000000</td>\n",
              "      <td>0.810619</td>\n",
              "      <td>2.085213e-03</td>\n",
              "      <td>0.623879</td>\n",
              "      <td>0.605998</td>\n",
              "      <td>0.841179</td>\n",
              "      <td>0.278778</td>\n",
              "      <td>0.026808</td>\n",
              "      <td>0.565252</td>\n",
              "      <td>1.0</td>\n",
              "      <td>0.033798</td>\n",
              "    </tr>\n",
              "    <tr>\n",
              "      <th>75%</th>\n",
              "      <td>0.000000</td>\n",
              "      <td>0.535563</td>\n",
              "      <td>0.589157</td>\n",
              "      <td>0.584105</td>\n",
              "      <td>0.613914</td>\n",
              "      <td>0.613842</td>\n",
              "      <td>0.999095</td>\n",
              "      <td>0.797579</td>\n",
              "      <td>0.809469</td>\n",
              "      <td>0.303585</td>\n",
              "      <td>0.781735</td>\n",
              "      <td>4.145000e+09</td>\n",
              "      <td>3.450000e+09</td>\n",
              "      <td>0.471004</td>\n",
              "      <td>5.325533e-04</td>\n",
              "      <td>0.205841</td>\n",
              "      <td>0.199570</td>\n",
              "      <td>0.199570</td>\n",
              "      <td>0.199612</td>\n",
              "      <td>0.238820</td>\n",
              "      <td>0.328623</td>\n",
              "      <td>4.635722e-02</td>\n",
              "      <td>0.116155</td>\n",
              "      <td>0.193493</td>\n",
              "      <td>0.022153</td>\n",
              "      <td>0.848123</td>\n",
              "      <td>0.689647</td>\n",
              "      <td>0.689647</td>\n",
              "      <td>0.217622</td>\n",
              "      <td>7.390000e+09</td>\n",
              "      <td>4.993621e-04</td>\n",
              "      <td>0.264388</td>\n",
              "      <td>0.386731</td>\n",
              "      <td>1.626953e-02</td>\n",
              "      <td>1.224911e-02</td>\n",
              "      <td>0.631125</td>\n",
              "      <td>9.273293e-03</td>\n",
              "      <td>0.148804</td>\n",
              "      <td>0.927109</td>\n",
              "      <td>0.006847</td>\n",
              "      <td>...</td>\n",
              "      <td>0.689051</td>\n",
              "      <td>0.161073</td>\n",
              "      <td>1.295091e-02</td>\n",
              "      <td>1.280557e-02</td>\n",
              "      <td>0.119523</td>\n",
              "      <td>0.360915</td>\n",
              "      <td>0.277429</td>\n",
              "      <td>1.114677e-02</td>\n",
              "      <td>0.942027</td>\n",
              "      <td>0.738560</td>\n",
              "      <td>0.332322</td>\n",
              "      <td>9.005946e-03</td>\n",
              "      <td>0.944811</td>\n",
              "      <td>0.002492</td>\n",
              "      <td>0.035930</td>\n",
              "      <td>4.525945e-04</td>\n",
              "      <td>4.900000e+09</td>\n",
              "      <td>0.594002</td>\n",
              "      <td>4.510000e+09</td>\n",
              "      <td>0.671587</td>\n",
              "      <td>3.722000e-01</td>\n",
              "      <td>0.942027</td>\n",
              "      <td>0.332322</td>\n",
              "      <td>0.117106</td>\n",
              "      <td>0.663062</td>\n",
              "      <td>0.464236</td>\n",
              "      <td>0.624769</td>\n",
              "      <td>0.317707</td>\n",
              "      <td>0.038375</td>\n",
              "      <td>0.000000</td>\n",
              "      <td>0.826455</td>\n",
              "      <td>5.269777e-03</td>\n",
              "      <td>0.624168</td>\n",
              "      <td>0.613913</td>\n",
              "      <td>0.842357</td>\n",
              "      <td>0.281449</td>\n",
              "      <td>0.026913</td>\n",
              "      <td>0.565725</td>\n",
              "      <td>1.0</td>\n",
              "      <td>0.052838</td>\n",
              "    </tr>\n",
              "    <tr>\n",
              "      <th>max</th>\n",
              "      <td>1.000000</td>\n",
              "      <td>1.000000</td>\n",
              "      <td>1.000000</td>\n",
              "      <td>1.000000</td>\n",
              "      <td>1.000000</td>\n",
              "      <td>1.000000</td>\n",
              "      <td>1.000000</td>\n",
              "      <td>1.000000</td>\n",
              "      <td>1.000000</td>\n",
              "      <td>1.000000</td>\n",
              "      <td>1.000000</td>\n",
              "      <td>9.990000e+09</td>\n",
              "      <td>9.980000e+09</td>\n",
              "      <td>1.000000</td>\n",
              "      <td>9.900000e+08</td>\n",
              "      <td>1.000000</td>\n",
              "      <td>1.000000</td>\n",
              "      <td>1.000000</td>\n",
              "      <td>1.000000</td>\n",
              "      <td>1.000000</td>\n",
              "      <td>1.000000</td>\n",
              "      <td>3.020000e+09</td>\n",
              "      <td>1.000000</td>\n",
              "      <td>1.000000</td>\n",
              "      <td>1.000000</td>\n",
              "      <td>1.000000</td>\n",
              "      <td>1.000000</td>\n",
              "      <td>1.000000</td>\n",
              "      <td>1.000000</td>\n",
              "      <td>9.990000e+09</td>\n",
              "      <td>9.330000e+09</td>\n",
              "      <td>1.000000</td>\n",
              "      <td>1.000000</td>\n",
              "      <td>2.750000e+09</td>\n",
              "      <td>9.230000e+09</td>\n",
              "      <td>1.000000</td>\n",
              "      <td>9.940000e+09</td>\n",
              "      <td>1.000000</td>\n",
              "      <td>1.000000</td>\n",
              "      <td>1.000000</td>\n",
              "      <td>...</td>\n",
              "      <td>1.000000</td>\n",
              "      <td>1.000000</td>\n",
              "      <td>8.820000e+09</td>\n",
              "      <td>9.650000e+09</td>\n",
              "      <td>1.000000</td>\n",
              "      <td>1.000000</td>\n",
              "      <td>1.000000</td>\n",
              "      <td>9.910000e+09</td>\n",
              "      <td>1.000000</td>\n",
              "      <td>1.000000</td>\n",
              "      <td>1.000000</td>\n",
              "      <td>9.540000e+09</td>\n",
              "      <td>1.000000</td>\n",
              "      <td>1.000000</td>\n",
              "      <td>1.000000</td>\n",
              "      <td>1.000000e+10</td>\n",
              "      <td>1.000000e+10</td>\n",
              "      <td>1.000000</td>\n",
              "      <td>1.000000e+10</td>\n",
              "      <td>1.000000</td>\n",
              "      <td>8.320000e+09</td>\n",
              "      <td>1.000000</td>\n",
              "      <td>1.000000</td>\n",
              "      <td>1.000000</td>\n",
              "      <td>1.000000</td>\n",
              "      <td>1.000000</td>\n",
              "      <td>1.000000</td>\n",
              "      <td>1.000000</td>\n",
              "      <td>1.000000</td>\n",
              "      <td>1.000000</td>\n",
              "      <td>1.000000</td>\n",
              "      <td>9.820000e+09</td>\n",
              "      <td>1.000000</td>\n",
              "      <td>1.000000</td>\n",
              "      <td>1.000000</td>\n",
              "      <td>1.000000</td>\n",
              "      <td>1.000000</td>\n",
              "      <td>1.000000</td>\n",
              "      <td>1.0</td>\n",
              "      <td>1.000000</td>\n",
              "    </tr>\n",
              "  </tbody>\n",
              "</table>\n",
              "<p>8 rows × 96 columns</p>\n",
              "</div>"
            ],
            "text/plain": [
              "         Bankrupt?  ...   Equity to Liability\n",
              "count  6819.000000  ...           6819.000000\n",
              "mean      0.032263  ...              0.047578\n",
              "std       0.176710  ...              0.050014\n",
              "min       0.000000  ...              0.000000\n",
              "25%       0.000000  ...              0.024477\n",
              "50%       0.000000  ...              0.033798\n",
              "75%       0.000000  ...              0.052838\n",
              "max       1.000000  ...              1.000000\n",
              "\n",
              "[8 rows x 96 columns]"
            ]
          },
          "metadata": {
            "tags": []
          },
          "execution_count": 5
        }
      ]
    },
    {
      "cell_type": "code",
      "metadata": {
        "id": "QCfFEzdJ9zR9",
        "colab": {
          "base_uri": "https://localhost:8080/"
        },
        "outputId": "59ee8100-28a4-4540-e8e8-6bbe75fe1234"
      },
      "source": [
        "df.info()"
      ],
      "execution_count": null,
      "outputs": [
        {
          "output_type": "stream",
          "text": [
            "<class 'pandas.core.frame.DataFrame'>\n",
            "RangeIndex: 6819 entries, 0 to 6818\n",
            "Data columns (total 96 columns):\n",
            " #   Column                                                    Non-Null Count  Dtype  \n",
            "---  ------                                                    --------------  -----  \n",
            " 0   Bankrupt?                                                 6819 non-null   int64  \n",
            " 1    ROA(C) before interest and depreciation before interest  6819 non-null   float64\n",
            " 2    ROA(A) before interest and % after tax                   6819 non-null   float64\n",
            " 3    ROA(B) before interest and depreciation after tax        6819 non-null   float64\n",
            " 4    Operating Gross Margin                                   6819 non-null   float64\n",
            " 5    Realized Sales Gross Margin                              6819 non-null   float64\n",
            " 6    Operating Profit Rate                                    6819 non-null   float64\n",
            " 7    Pre-tax net Interest Rate                                6819 non-null   float64\n",
            " 8    After-tax net Interest Rate                              6819 non-null   float64\n",
            " 9    Non-industry income and expenditure/revenue              6819 non-null   float64\n",
            " 10   Continuous interest rate (after tax)                     6819 non-null   float64\n",
            " 11   Operating Expense Rate                                   6819 non-null   float64\n",
            " 12   Research and development expense rate                    6819 non-null   float64\n",
            " 13   Cash flow rate                                           6819 non-null   float64\n",
            " 14   Interest-bearing debt interest rate                      6819 non-null   float64\n",
            " 15   Tax rate (A)                                             6819 non-null   float64\n",
            " 16   Net Value Per Share (B)                                  6819 non-null   float64\n",
            " 17   Net Value Per Share (A)                                  6819 non-null   float64\n",
            " 18   Net Value Per Share (C)                                  6819 non-null   float64\n",
            " 19   Persistent EPS in the Last Four Seasons                  6819 non-null   float64\n",
            " 20   Cash Flow Per Share                                      6819 non-null   float64\n",
            " 21   Revenue Per Share (Yuan ¥)                               6819 non-null   float64\n",
            " 22   Operating Profit Per Share (Yuan ¥)                      6819 non-null   float64\n",
            " 23   Per Share Net profit before tax (Yuan ¥)                 6819 non-null   float64\n",
            " 24   Realized Sales Gross Profit Growth Rate                  6819 non-null   float64\n",
            " 25   Operating Profit Growth Rate                             6819 non-null   float64\n",
            " 26   After-tax Net Profit Growth Rate                         6819 non-null   float64\n",
            " 27   Regular Net Profit Growth Rate                           6819 non-null   float64\n",
            " 28   Continuous Net Profit Growth Rate                        6819 non-null   float64\n",
            " 29   Total Asset Growth Rate                                  6819 non-null   float64\n",
            " 30   Net Value Growth Rate                                    6819 non-null   float64\n",
            " 31   Total Asset Return Growth Rate Ratio                     6819 non-null   float64\n",
            " 32   Cash Reinvestment %                                      6819 non-null   float64\n",
            " 33   Current Ratio                                            6819 non-null   float64\n",
            " 34   Quick Ratio                                              6819 non-null   float64\n",
            " 35   Interest Expense Ratio                                   6819 non-null   float64\n",
            " 36   Total debt/Total net worth                               6819 non-null   float64\n",
            " 37   Debt ratio %                                             6819 non-null   float64\n",
            " 38   Net worth/Assets                                         6819 non-null   float64\n",
            " 39   Long-term fund suitability ratio (A)                     6819 non-null   float64\n",
            " 40   Borrowing dependency                                     6819 non-null   float64\n",
            " 41   Contingent liabilities/Net worth                         6819 non-null   float64\n",
            " 42   Operating profit/Paid-in capital                         6819 non-null   float64\n",
            " 43   Net profit before tax/Paid-in capital                    6819 non-null   float64\n",
            " 44   Inventory and accounts receivable/Net value              6819 non-null   float64\n",
            " 45   Total Asset Turnover                                     6819 non-null   float64\n",
            " 46   Accounts Receivable Turnover                             6819 non-null   float64\n",
            " 47   Average Collection Days                                  6819 non-null   float64\n",
            " 48   Inventory Turnover Rate (times)                          6819 non-null   float64\n",
            " 49   Fixed Assets Turnover Frequency                          6819 non-null   float64\n",
            " 50   Net Worth Turnover Rate (times)                          6819 non-null   float64\n",
            " 51   Revenue per person                                       6819 non-null   float64\n",
            " 52   Operating profit per person                              6819 non-null   float64\n",
            " 53   Allocation rate per person                               6819 non-null   float64\n",
            " 54   Working Capital to Total Assets                          6819 non-null   float64\n",
            " 55   Quick Assets/Total Assets                                6819 non-null   float64\n",
            " 56   Current Assets/Total Assets                              6819 non-null   float64\n",
            " 57   Cash/Total Assets                                        6819 non-null   float64\n",
            " 58   Quick Assets/Current Liability                           6819 non-null   float64\n",
            " 59   Cash/Current Liability                                   6819 non-null   float64\n",
            " 60   Current Liability to Assets                              6819 non-null   float64\n",
            " 61   Operating Funds to Liability                             6819 non-null   float64\n",
            " 62   Inventory/Working Capital                                6819 non-null   float64\n",
            " 63   Inventory/Current Liability                              6819 non-null   float64\n",
            " 64   Current Liabilities/Liability                            6819 non-null   float64\n",
            " 65   Working Capital/Equity                                   6819 non-null   float64\n",
            " 66   Current Liabilities/Equity                               6819 non-null   float64\n",
            " 67   Long-term Liability to Current Assets                    6819 non-null   float64\n",
            " 68   Retained Earnings to Total Assets                        6819 non-null   float64\n",
            " 69   Total income/Total expense                               6819 non-null   float64\n",
            " 70   Total expense/Assets                                     6819 non-null   float64\n",
            " 71   Current Asset Turnover Rate                              6819 non-null   float64\n",
            " 72   Quick Asset Turnover Rate                                6819 non-null   float64\n",
            " 73   Working capitcal Turnover Rate                           6819 non-null   float64\n",
            " 74   Cash Turnover Rate                                       6819 non-null   float64\n",
            " 75   Cash Flow to Sales                                       6819 non-null   float64\n",
            " 76   Fixed Assets to Assets                                   6819 non-null   float64\n",
            " 77   Current Liability to Liability                           6819 non-null   float64\n",
            " 78   Current Liability to Equity                              6819 non-null   float64\n",
            " 79   Equity to Long-term Liability                            6819 non-null   float64\n",
            " 80   Cash Flow to Total Assets                                6819 non-null   float64\n",
            " 81   Cash Flow to Liability                                   6819 non-null   float64\n",
            " 82   CFO to Assets                                            6819 non-null   float64\n",
            " 83   Cash Flow to Equity                                      6819 non-null   float64\n",
            " 84   Current Liability to Current Assets                      6819 non-null   float64\n",
            " 85   Liability-Assets Flag                                    6819 non-null   int64  \n",
            " 86   Net Income to Total Assets                               6819 non-null   float64\n",
            " 87   Total assets to GNP price                                6819 non-null   float64\n",
            " 88   No-credit Interval                                       6819 non-null   float64\n",
            " 89   Gross Profit to Sales                                    6819 non-null   float64\n",
            " 90   Net Income to Stockholder's Equity                       6819 non-null   float64\n",
            " 91   Liability to Equity                                      6819 non-null   float64\n",
            " 92   Degree of Financial Leverage (DFL)                       6819 non-null   float64\n",
            " 93   Interest Coverage Ratio (Interest expense to EBIT)       6819 non-null   float64\n",
            " 94   Net Income Flag                                          6819 non-null   int64  \n",
            " 95   Equity to Liability                                      6819 non-null   float64\n",
            "dtypes: float64(93), int64(3)\n",
            "memory usage: 5.0 MB\n"
          ],
          "name": "stdout"
        }
      ]
    },
    {
      "cell_type": "code",
      "metadata": {
        "colab": {
          "base_uri": "https://localhost:8080/"
        },
        "id": "4rSl1TahEy-Y",
        "outputId": "fe14d9bb-4e8f-4c01-d13d-5f991efc35d9"
      },
      "source": [
        "df.shape"
      ],
      "execution_count": null,
      "outputs": [
        {
          "output_type": "execute_result",
          "data": {
            "text/plain": [
              "(6819, 96)"
            ]
          },
          "metadata": {
            "tags": []
          },
          "execution_count": 7
        }
      ]
    },
    {
      "cell_type": "code",
      "metadata": {
        "id": "NCv2ROtx97BK"
      },
      "source": [
        "bankrupt = df['Bankrupt?'].value_counts()"
      ],
      "execution_count": null,
      "outputs": []
    },
    {
      "cell_type": "code",
      "metadata": {
        "colab": {
          "base_uri": "https://localhost:8080/"
        },
        "id": "2Vvy9V5u-Nlf",
        "outputId": "1f254159-8285-47e7-abd7-3e542f08c482"
      },
      "source": [
        "total = 6599 + 220\n",
        "bankrupt = (220/total)*100\n",
        "notBankrupt = 6599/total*100\n",
        "print(\"Bankrupt: \" + str(bankrupt) + \"%\")\n",
        "print(\"Not Bankrupt: \" + str(notBankrupt) + \"%\")"
      ],
      "execution_count": null,
      "outputs": [
        {
          "output_type": "stream",
          "text": [
            "Bankrupt: 3.2262795131250916%\n",
            "Not Bankrupt: 96.77372048687491%\n"
          ],
          "name": "stdout"
        }
      ]
    },
    {
      "cell_type": "code",
      "metadata": {
        "colab": {
          "base_uri": "https://localhost:8080/",
          "height": 295
        },
        "id": "xnHOiXkFfCWO",
        "outputId": "1fef020d-0535-422b-973d-04c19e30249f"
      },
      "source": [
        "var = ['Yes','No']\n",
        "plt.bar(var,bankrupt)\n",
        "plt.title('Bankrupt?')\n",
        "plt.xlabel('Bankrupt')\n",
        "plt.ylabel('Not Bankrupt')\n",
        "plt.show()"
      ],
      "execution_count": null,
      "outputs": [
        {
          "output_type": "display_data",
          "data": {
            "image/png": "[encoded data removed]",
            "text/plain": [
              "<Figure size 432x288 with 1 Axes>"
            ]
          },
          "metadata": {
            "tags": [],
            "needs_background": "light"
          }
        }
      ]
    },
    {
      "cell_type": "code",
      "metadata": {
        "colab": {
          "base_uri": "https://localhost:8080/",
          "height": 265
        },
        "id": "T4YZNaL4hlou",
        "outputId": "76fa0756-81ae-4357-9cbd-888173000ee3"
      },
      "source": [
        "plt.scatter(df['Bankrupt?'],df[' Cash Reinvestment %'], marker='o');"
      ],
      "execution_count": null,
      "outputs": [
        {
          "output_type": "display_data",
          "data": {
            "image/png": "[encoded data removed]",
            "text/plain": [
              "<Figure size 432x288 with 1 Axes>"
            ]
          },
          "metadata": {
            "tags": [],
            "needs_background": "light"
          }
        }
      ]
    },
    {
      "cell_type": "code",
      "metadata": {
        "colab": {
          "base_uri": "https://localhost:8080/",
          "height": 265
        },
        "id": "QajWLjJsiuEh",
        "outputId": "c76ca361-0da4-47b0-a383-52bfe143549d"
      },
      "source": [
        "plt.scatter(df['Bankrupt?'],df[' Degree of Financial Leverage (DFL)'], marker='o');"
      ],
      "execution_count": null,
      "outputs": [
        {
          "output_type": "display_data",
          "data": {
            "image/png": "[encoded data removed]",
            "text/plain": [
              "<Figure size 432x288 with 1 Axes>"
            ]
          },
          "metadata": {
            "tags": [],
            "needs_background": "light"
          }
        }
      ]
    },
    {
      "cell_type": "code",
      "metadata": {
        "colab": {
          "base_uri": "https://localhost:8080/",
          "height": 265
        },
        "id": "PotUYAbcjFst",
        "outputId": "c26ba65c-9301-416d-8788-bb7271df3bdf"
      },
      "source": [
        "plt.scatter(df['Bankrupt?'],df[' Net worth/Assets'], marker='o');"
      ],
      "execution_count": null,
      "outputs": [
        {
          "output_type": "display_data",
          "data": {
            "image/png": "[encoded data removed]",
            "text/plain": [
              "<Figure size 432x288 with 1 Axes>"
            ]
          },
          "metadata": {
            "tags": [],
            "needs_background": "light"
          }
        }
      ]
    },
    {
      "cell_type": "code",
      "metadata": {
        "colab": {
          "base_uri": "https://localhost:8080/",
          "height": 276
        },
        "id": "_MjuK-3TjnQX",
        "outputId": "59c9a47b-17d3-4233-a437-e9b0efdd76f1"
      },
      "source": [
        "plt.scatter(df['Bankrupt?'],df[' Operating Expense Rate'], marker='o');"
      ],
      "execution_count": null,
      "outputs": [
        {
          "output_type": "display_data",
          "data": {
            "image/png": "[encoded data removed]",
            "text/plain": [
              "<Figure size 432x288 with 1 Axes>"
            ]
          },
          "metadata": {
            "tags": [],
            "needs_background": "light"
          }
        }
      ]
    },
    {
      "cell_type": "code",
      "metadata": {
        "colab": {
          "base_uri": "https://localhost:8080/",
          "height": 265
        },
        "id": "UpRsEKtzjy3t",
        "outputId": "e3d7f0bc-ee1b-478e-b282-5cc2f69453d6"
      },
      "source": [
        "plt.scatter(df['Bankrupt?'],df[' Operating Gross Margin'], marker='o');"
      ],
      "execution_count": null,
      "outputs": [
        {
          "output_type": "display_data",
          "data": {
            "image/png": "[encoded data removed]",
            "text/plain": [
              "<Figure size 432x288 with 1 Axes>"
            ]
          },
          "metadata": {
            "tags": [],
            "needs_background": "light"
          }
        }
      ]
    },
    {
      "cell_type": "code",
      "metadata": {
        "colab": {
          "base_uri": "https://localhost:8080/"
        },
        "id": "MvqMKbwBkjuR",
        "outputId": "c25b6f9e-7fb4-4d0a-a696-46dc3959123e"
      },
      "source": [
        "maxGrossMargin = df[' Operating Gross Margin'].max()\n",
        "print(\"Highest Operating Gross Margin:\" + str(maxGrossMargin))\n",
        "\n",
        "minGrossMargin = df[' Operating Gross Margin'].min()\n",
        "print(\"Lowest Operating Gross Margin:\" + str(minGrossMargin))\n",
        "\n",
        "avgGrossMargin = df[' Operating Gross Margin'].mean()\n",
        "print(\"Average Operating Gross Margin:\" + str(avgGrossMargin))"
      ],
      "execution_count": null,
      "outputs": [
        {
          "output_type": "stream",
          "text": [
            "Highest Operating Gross Margin:1.0\n",
            "Lowest Operating Gross Margin:0.0\n",
            "Average Operating Gross Margin:0.6079480383703836\n"
          ],
          "name": "stdout"
        }
      ]
    },
    {
      "cell_type": "code",
      "metadata": {
        "colab": {
          "base_uri": "https://localhost:8080/"
        },
        "id": "r3ToOPjNl0lH",
        "outputId": "35ba3599-a701-4144-e653-f51b4aaf0f96"
      },
      "source": [
        "maxExpenseRate = df[' Operating Expense Rate'].max()\n",
        "print(\"Highest Operating Expense Rate:\" + str(maxExpenseRate))\n",
        "\n",
        "minExpenseRate = df[' Operating Expense Rate'].min()\n",
        "print(\"Lowest Operating Expense Rate:\" + str(minExpenseRate))\n",
        "\n",
        "avgExpenseRate = df[' Operating Expense Rate'].mean()\n",
        "print(\"Average Operating Expense Rate:\" + str(avgExpenseRate))"
      ],
      "execution_count": null,
      "outputs": [
        {
          "output_type": "stream",
          "text": [
            "Highest Operating Expense Rate:9990000000.0\n",
            "Lowest Operating Expense Rate:0.0\n",
            "Average Operating Expense Rate:1995347312.8027918\n"
          ],
          "name": "stdout"
        }
      ]
    },
    {
      "cell_type": "markdown",
      "metadata": {
        "id": "Dq5-xuOAsNhC"
      },
      "source": [
        "# No Adjustments"
      ]
    },
    {
      "cell_type": "markdown",
      "metadata": {
        "id": "bJZOiDyY_WPz"
      },
      "source": [
        "For this I made no changes to the data and put it straight into a linear SVC model.\n",
        "\n",
        "***RESULTS:***\n",
        "\n",
        "As expected the accuracy that the model returned was ~98%, this is due to the data being unbalanced.\n",
        "\n",
        "The F1 score also came back with ~98% accuracy.\n",
        "\n",
        "The cohen kappa score came back almost 0 showing that there is little to no agreement between raters.\n",
        "\n",
        "The fact that the accuracy of the models and the cohen kappa score are on either ends of the scale shows that there are problems with the balance of our data. This will be explored futher as we go on."
      ]
    },
    {
      "cell_type": "code",
      "metadata": {
        "id": "87dpgbv7-7Cy"
      },
      "source": [
        "df = pd.read_csv(io.BytesIO(uploaded['data.csv']))\n",
        "\n",
        "X = df.drop('Bankrupt?', axis=1)\n",
        "Y = df['Bankrupt?']\n",
        "\n",
        "xTrain, xTest, yTrain, yTest = train_test_split(X,Y, random_state=42, shuffle=False)"
      ],
      "execution_count": null,
      "outputs": []
    },
    {
      "cell_type": "code",
      "metadata": {
        "colab": {
          "base_uri": "https://localhost:8080/"
        },
        "id": "YQZ1p4ZuEoub",
        "outputId": "2ec05ba9-7bac-462f-ebf2-4c247102e2c2"
      },
      "source": [
        "print(xTrain.shape,xTest.shape,yTrain.shape,yTest.shape)"
      ],
      "execution_count": null,
      "outputs": [
        {
          "output_type": "stream",
          "text": [
            "(5114, 95) (1705, 95) (5114,) (1705,)\n"
          ],
          "name": "stdout"
        }
      ]
    },
    {
      "cell_type": "code",
      "metadata": {
        "id": "cD14fa6uJzMc"
      },
      "source": [
        "lsvc = LinearSVC(class_weight=None, dual=True, fit_intercept=True, loss='hinge', max_iter=1000, multi_class='ovr', random_state=True)"
      ],
      "execution_count": null,
      "outputs": []
    },
    {
      "cell_type": "code",
      "metadata": {
        "id": "XTHl-OfWKpkG",
        "colab": {
          "base_uri": "https://localhost:8080/"
        },
        "outputId": "b3c4dddd-02ee-4e3d-831b-b8700c608e43"
      },
      "source": [
        "lsvc.fit(xTrain, yTrain)\n",
        "score = lsvc.score(xTest, yTest)\n",
        "print(\"Score: \", score)"
      ],
      "execution_count": null,
      "outputs": [
        {
          "output_type": "stream",
          "text": [
            "Score:  0.9818181818181818\n"
          ],
          "name": "stdout"
        },
        {
          "output_type": "stream",
          "text": [
            "/usr/local/lib/python3.7/dist-packages/sklearn/svm/_base.py:947: ConvergenceWarning: Liblinear failed to converge, increase the number of iterations.\n",
            "  \"the number of iterations.\", ConvergenceWarning)\n"
          ],
          "name": "stderr"
        }
      ]
    },
    {
      "cell_type": "code",
      "metadata": {
        "colab": {
          "base_uri": "https://localhost:8080/",
          "height": 588
        },
        "id": "9zkF0Qf7me7w",
        "outputId": "ba60326a-cf35-4313-9003-869d951e464d"
      },
      "source": [
        "yPred = lsvc.predict(xTest)\n",
        "\n",
        "cm = confusion_matrix(yTest, yPred)\n",
        "print(\"Confusion Matrix:\")\n",
        "print(cm)\n",
        "\n",
        "plot_confusion_matrix(lsvc,xTest, yTest)\n",
        "plt.show()\n",
        "\n",
        "cr = classification_report(yTest, yPred)\n",
        "print(\"\\n Classification Report:\")\n",
        "print(cr)\n",
        "\n",
        "ck = cohen_kappa_score(yTest, yPred)\n",
        "print(\"\\nCohen Kappa Score:\")\n",
        "print(ck)"
      ],
      "execution_count": null,
      "outputs": [
        {
          "output_type": "stream",
          "text": [
            "Confusion Matrix:\n",
            "[[1673    6]\n",
            " [  25    1]]\n"
          ],
          "name": "stdout"
        },
        {
          "output_type": "display_data",
          "data": {
            "image/png": "[encoded data removed]",
            "text/plain": [
              "<Figure size 432x288 with 2 Axes>"
            ]
          },
          "metadata": {
            "tags": [],
            "needs_background": "light"
          }
        },
        {
          "output_type": "stream",
          "text": [
            "\n",
            " Classification Report:\n",
            "              precision    recall  f1-score   support\n",
            "\n",
            "           0       0.99      1.00      0.99      1679\n",
            "           1       0.14      0.04      0.06        26\n",
            "\n",
            "    accuracy                           0.98      1705\n",
            "   macro avg       0.56      0.52      0.53      1705\n",
            "weighted avg       0.97      0.98      0.98      1705\n",
            "\n",
            "\n",
            "Cohen Kappa Score:\n",
            "0.05448918623996002\n"
          ],
          "name": "stdout"
        }
      ]
    },
    {
      "cell_type": "markdown",
      "metadata": {
        "id": "WJx0vU4UsdVe"
      },
      "source": [
        "# Oversampling Using SMOTE\n"
      ]
    },
    {
      "cell_type": "markdown",
      "metadata": {
        "id": "4B_YkQW6_g3A"
      },
      "source": [
        "SMOTE stands for Synthetic Minority Over-sampling Technique.\n",
        "It is a method which is used to generate Synthetic samples instead of making copies.The hope is that by using this to add more samples it will balance out the data.\n",
        "\n",
        "***RESULTS:***\n",
        "\n",
        "After adding more samples to the data, the accuracy reduced to ~57%. This is a more realistic figure for the dataset and shows that the SMOTE method had a positive affect on balancing the data."
      ]
    },
    {
      "cell_type": "code",
      "metadata": {
        "colab": {
          "base_uri": "https://localhost:8080/"
        },
        "id": "UxMcTGBrsiDG",
        "outputId": "c37bae3a-bed8-4e9f-a759-1b4b89f051b7"
      },
      "source": [
        "df = pd.read_csv(io.BytesIO(uploaded['data.csv']))\n",
        "\n",
        "X = df.drop('Bankrupt?', axis=1)\n",
        "Y = df['Bankrupt?']\n",
        "\n",
        "oversample = SMOTE()\n",
        "X, Y = oversample.fit_resample(X, Y)\n",
        "\n",
        "xTrain, xTest, yTrain, yTest = train_test_split(X,Y, random_state=42, shuffle=False)"
      ],
      "execution_count": null,
      "outputs": [
        {
          "output_type": "stream",
          "text": [
            "/usr/local/lib/python3.7/dist-packages/sklearn/utils/deprecation.py:87: FutureWarning: Function safe_indexing is deprecated; safe_indexing is deprecated in version 0.22 and will be removed in version 0.24.\n",
            "  warnings.warn(msg, category=FutureWarning)\n"
          ],
          "name": "stderr"
        }
      ]
    },
    {
      "cell_type": "code",
      "metadata": {
        "colab": {
          "base_uri": "https://localhost:8080/"
        },
        "id": "6znXBEkZso3e",
        "outputId": "69876643-63da-4c99-d518-52c31dc428dc"
      },
      "source": [
        "print(xTrain.shape,xTest.shape,yTrain.shape,yTest.shape)"
      ],
      "execution_count": null,
      "outputs": [
        {
          "output_type": "stream",
          "text": [
            "(9898, 95) (3300, 95) (9898,) (3300,)\n"
          ],
          "name": "stdout"
        }
      ]
    },
    {
      "cell_type": "code",
      "metadata": {
        "id": "vSIi9ZQ0s4uU"
      },
      "source": [
        "lsvc = LinearSVC(class_weight=None, dual=True, fit_intercept=True, loss='hinge', max_iter=1000, multi_class='ovr', random_state=True)"
      ],
      "execution_count": null,
      "outputs": []
    },
    {
      "cell_type": "code",
      "metadata": {
        "colab": {
          "base_uri": "https://localhost:8080/"
        },
        "id": "RCdf3Gkls4rE",
        "outputId": "9bbe6c13-04ec-4b9f-930c-5bf44af7bdfd"
      },
      "source": [
        "lsvc.fit(xTrain, yTrain)\n",
        "score = lsvc.score(xTest, yTest)\n",
        "print(\"Score: \", score)"
      ],
      "execution_count": null,
      "outputs": [
        {
          "output_type": "stream",
          "text": [
            "Score:  0.5793939393939394\n"
          ],
          "name": "stdout"
        },
        {
          "output_type": "stream",
          "text": [
            "/usr/local/lib/python3.7/dist-packages/sklearn/svm/_base.py:947: ConvergenceWarning: Liblinear failed to converge, increase the number of iterations.\n",
            "  \"the number of iterations.\", ConvergenceWarning)\n"
          ],
          "name": "stderr"
        }
      ]
    },
    {
      "cell_type": "code",
      "metadata": {
        "colab": {
          "base_uri": "https://localhost:8080/",
          "height": 334
        },
        "id": "JogCJAdtBmVE",
        "outputId": "06729885-3c2e-4696-fba7-516958b2410c"
      },
      "source": [
        "yPred = lsvc.predict(xTest)\n",
        "\n",
        "cm = confusion_matrix(yTest, yPred)\n",
        "print(\"Confusion Matrix:\")\n",
        "print(cm)\n",
        "\n",
        "plot_confusion_matrix(lsvc,xTest, yTest)\n",
        "plt.show()"
      ],
      "execution_count": null,
      "outputs": [
        {
          "output_type": "stream",
          "text": [
            "Confusion Matrix:\n",
            "[[   0    0]\n",
            " [1856 1444]]\n"
          ],
          "name": "stdout"
        },
        {
          "output_type": "display_data",
          "data": {
            "image/png": "[encoded data removed]",
            "text/plain": [
              "<Figure size 432x288 with 2 Axes>"
            ]
          },
          "metadata": {
            "tags": [],
            "needs_background": "light"
          }
        }
      ]
    },
    {
      "cell_type": "markdown",
      "metadata": {
        "id": "ET7EUmQez57q"
      },
      "source": [
        "# Oversampling DecisionTreeClassifier"
      ]
    },
    {
      "cell_type": "markdown",
      "metadata": {
        "id": "-IDoJO3rVL-p"
      },
      "source": [
        "For this tactic I used random over-sampling which randomly selects samples and makes copies of them. Again the hope is that this will balance out the data.\n",
        "\n",
        "This time I used the Decision Tree Classifier model.\n",
        "\n",
        "***RESULTS:***\n",
        "\n",
        "After using random over-sampling the accuracy was ~95%.\n",
        "This is slightly lower than when there were no adjustments made but it is still unrealisticly high. This might suggest that the random samples that were copied were mostly those where a business did not become bankrupt so there was little to no change on the balance of the data."
      ]
    },
    {
      "cell_type": "code",
      "metadata": {
        "id": "z8Yhq7Pms4hC"
      },
      "source": [
        "from numpy import mean\n",
        "from sklearn.model_selection import cross_val_score\n",
        "from sklearn.model_selection import RepeatedStratifiedKFold\n",
        "from sklearn.tree import DecisionTreeClassifier\n",
        "from imblearn.pipeline import Pipeline\n",
        "from imblearn.over_sampling import RandomOverSampler"
      ],
      "execution_count": null,
      "outputs": []
    },
    {
      "cell_type": "code",
      "metadata": {
        "id": "5brlla0n0QQH"
      },
      "source": [
        "df = pd.read_csv(io.BytesIO(uploaded['data.csv']))\n",
        "\n",
        "X = df.drop('Bankrupt?', axis=1)\n",
        "Y = df['Bankrupt?']"
      ],
      "execution_count": null,
      "outputs": []
    },
    {
      "cell_type": "code",
      "metadata": {
        "colab": {
          "base_uri": "https://localhost:8080/"
        },
        "id": "B60lDomo0G4I",
        "outputId": "629ad1a7-638b-4286-b33c-c9307423746d"
      },
      "source": [
        "steps = [('over', RandomOverSampler()), ('model', DecisionTreeClassifier())]\n",
        "pipeline = Pipeline(steps=steps)\n",
        "# evaluate pipeline\n",
        "cv = RepeatedStratifiedKFold(n_splits=10, n_repeats=3, random_state=1)\n",
        "scores = cross_val_score(pipeline, X, Y, scoring='f1_micro', cv=cv, n_jobs=-1)\n",
        "score = mean(scores)\n",
        "print('F1 Score: %.3f' % score)"
      ],
      "execution_count": null,
      "outputs": [
        {
          "output_type": "stream",
          "text": [
            "F1 Score: 0.956\n"
          ],
          "name": "stdout"
        }
      ]
    },
    {
      "cell_type": "markdown",
      "metadata": {
        "id": "Z0heGtb852mK"
      },
      "source": [
        "# Undersampling DecisionTreeClassifier"
      ]
    },
    {
      "cell_type": "markdown",
      "metadata": {
        "id": "eO2duj20VTcL"
      },
      "source": [
        "For this tactic I used random under-sampling which randomly selects samples to remove from the dataset. Again the hope is that this will balance out the data.\n",
        "\n",
        "The Decision Tree Classifier model was used again.\n",
        "\n",
        "***RESULTS:***\n",
        "\n",
        "After using random under-sampling the accuracy was ~80%. This is a much more realistic accuracy when compared to the previous random over-sampling. This shows that more samples where a business did not become bankrupt were removed which means the data was more balanced."
      ]
    },
    {
      "cell_type": "code",
      "metadata": {
        "id": "ovdfK-uL55d5"
      },
      "source": [
        "from collections import Counter\n",
        "from imblearn.under_sampling import RandomUnderSampler"
      ],
      "execution_count": null,
      "outputs": []
    },
    {
      "cell_type": "code",
      "metadata": {
        "id": "IoltBvTQU2Nm"
      },
      "source": [
        "df = pd.read_csv(io.BytesIO(uploaded['data.csv']))\n",
        "\n",
        "X = df.drop('Bankrupt?', axis=1)\n",
        "Y = df['Bankrupt?']"
      ],
      "execution_count": null,
      "outputs": []
    },
    {
      "cell_type": "code",
      "metadata": {
        "colab": {
          "base_uri": "https://localhost:8080/"
        },
        "id": "txGetI2O5-tZ",
        "outputId": "71d3fd29-2f83-4ab8-b1e9-18d33e971ee7"
      },
      "source": [
        "steps = [('under', RandomUnderSampler()), ('model', DecisionTreeClassifier())]\n",
        "pipeline = Pipeline(steps=steps)\n",
        "\n",
        "cv = RepeatedStratifiedKFold(n_splits=10, n_repeats=3, random_state=1)\n",
        "scores = cross_val_score(pipeline, X, Y, scoring='f1_micro', cv=cv, n_jobs=-1)\n",
        "score = mean(scores)\n",
        "print('F1 Score: %.3f' % score)"
      ],
      "execution_count": null,
      "outputs": [
        {
          "output_type": "stream",
          "text": [
            "F1 Score: 0.805\n"
          ],
          "name": "stdout"
        }
      ]
    },
    {
      "cell_type": "markdown",
      "metadata": {
        "id": "TZFWdRct8iid"
      },
      "source": [
        "# Penalized Classification"
      ]
    },
    {
      "cell_type": "markdown",
      "metadata": {
        "id": "kMgo4II6S1yO"
      },
      "source": [
        "Penalize algorithims work by increasing the cost of classification mistakes on the minority class and decrease the majority class. This should in theroy provide a more accurat accuracy score.\n",
        "\n",
        "***RESULTS:***\n",
        "\n",
        "Before adding the penalize algorithim we got an accuracy of ~98% which is an unrealistic accuracy score. After applying the penalize algorithim the accuracy score was reduced to ~87% which is more realistic and shows that the data is more balanced. "
      ]
    },
    {
      "cell_type": "code",
      "metadata": {
        "id": "vpVxr6X4dcf_"
      },
      "source": [
        "df = pd.read_csv(io.BytesIO(uploaded['data.csv']))\n",
        "\n",
        "X = df.drop('Bankrupt?', axis=1)\n",
        "Y = df['Bankrupt?']\n",
        "\n",
        "xTrain, xTest, yTrain, yTest = train_test_split(X,Y, random_state=42, shuffle=False)"
      ],
      "execution_count": null,
      "outputs": []
    },
    {
      "cell_type": "code",
      "metadata": {
        "colab": {
          "base_uri": "https://localhost:8080/"
        },
        "id": "Tat6aIYZDlkS",
        "outputId": "f0dfa8d5-3f36-466c-82ba-13734a8a994c"
      },
      "source": [
        "lsvc = LinearSVC(C=1.0, dual=False, fit_intercept=True,\n",
        "          intercept_scaling=1, loss='squared_hinge', max_iter=10000,\n",
        "          multi_class='ovr', penalty='l2', random_state=None, tol=0.0001,\n",
        "          verbose=0)\n",
        "\n",
        "lsvc.fit(xTrain, yTrain)\n",
        "score = lsvc.score(xTest, yTest)\n",
        "print(\"Score: \", score)"
      ],
      "execution_count": null,
      "outputs": [
        {
          "output_type": "stream",
          "text": [
            "Score:  0.9829912023460411\n"
          ],
          "name": "stdout"
        }
      ]
    },
    {
      "cell_type": "code",
      "metadata": {
        "colab": {
          "base_uri": "https://localhost:8080/"
        },
        "id": "Rj734cEIVK_d",
        "outputId": "48b085ea-a5f8-4499-bb73-57e99f81a600"
      },
      "source": [
        "lsvc = LinearSVC(C=1.0, class_weight='balanced', dual=False, fit_intercept=True,\n",
        "          intercept_scaling=1, loss='squared_hinge', max_iter=10000,\n",
        "          multi_class='ovr', penalty='l2', random_state=None, tol=0.0001,\n",
        "          verbose=0)\n",
        "\n",
        "lsvc.fit(xTrain, yTrain)\n",
        "score = lsvc.score(xTest, yTest)\n",
        "print(\"Score: \", score)"
      ],
      "execution_count": null,
      "outputs": [
        {
          "output_type": "stream",
          "text": [
            "Score:  0.8727272727272727\n"
          ],
          "name": "stdout"
        },
        {
          "output_type": "stream",
          "text": [
            "/usr/local/lib/python3.7/dist-packages/sklearn/svm/_base.py:947: ConvergenceWarning: Liblinear failed to converge, increase the number of iterations.\n",
            "  \"the number of iterations.\", ConvergenceWarning)\n"
          ],
          "name": "stderr"
        }
      ]
    },
    {
      "cell_type": "code",
      "metadata": {
        "colab": {
          "base_uri": "https://localhost:8080/",
          "height": 334
        },
        "id": "aQ7LOOeAEhud",
        "outputId": "91e74335-13e6-4068-bcb8-b54ad3af86aa"
      },
      "source": [
        "yPred = lsvc.predict(xTest)\n",
        "\n",
        "cm = confusion_matrix(yTest, yPred)\n",
        "print(\"Confusion Matrix:\")\n",
        "print(cm)\n",
        "\n",
        "plot_confusion_matrix(lsvc,xTest, yTest)\n",
        "plt.show()"
      ],
      "execution_count": null,
      "outputs": [
        {
          "output_type": "stream",
          "text": [
            "Confusion Matrix:\n",
            "[[1478  201]\n",
            " [  16   10]]\n"
          ],
          "name": "stdout"
        },
        {
          "output_type": "display_data",
          "data": {
            "image/png": "[encoded data removed]",
            "text/plain": [
              "<Figure size 432x288 with 2 Axes>"
            ]
          },
          "metadata": {
            "tags": [],
            "needs_background": "light"
          }
        }
      ]
    },
    {
      "cell_type": "markdown",
      "metadata": {
        "id": "RNoLIJL4HFYA"
      },
      "source": [
        "# Outlier Detection"
      ]
    },
    {
      "cell_type": "markdown",
      "metadata": {
        "id": "Lq0-IKgLGU8m"
      },
      "source": [
        "For this tactic I will use 4 automatic outlier detection algorithims:\n",
        "\n",
        "*   Isolation Forest\n",
        "*   Minimum Covariance Determinant\n",
        "*   Local Outlier Factor\n",
        "*   One Class SVM\n",
        "\n",
        "The aim of these algorithims is that any outliers within the dataset will be removed, creating a more ccurate dataset. If the dataset has many outliers they could skew the final accuracy score.\n",
        "\n",
        "***RESULTS:***\n",
        "\n",
        "The accuracy achived without applying any outlier detection algorithim returned and acuracy of ~98%. This will be used as a baseline comparison with the the other slgorithims.\n",
        "\n",
        "3 out of the 4 algorithims returned accuracy scores of between 93% and 96%. These scores are too high, unrealistic and very close to the baseline accuracy showing that these algorithims did not have much effect on balancing the data. This could show that these algorithims were unable to find many outliers in the data.\n",
        "\n",
        "The Minimum Covariance Determinant algorithim returned an accuracy score of 80%. This shows that this algorithm was able to find more outliers in the data which in turn balanced the data.\n",
        "\n",
        "\n",
        "\n",
        "\n",
        "\n",
        "\n",
        "\n",
        "\n"
      ]
    },
    {
      "cell_type": "markdown",
      "metadata": {
        "id": "md_MzKLfIHcy"
      },
      "source": [
        "### No adjustment"
      ]
    },
    {
      "cell_type": "code",
      "metadata": {
        "id": "Yw-bINm4HYjX"
      },
      "source": [
        "from sklearn.linear_model import LinearRegression\n",
        "from sklearn.metrics import mean_absolute_error"
      ],
      "execution_count": null,
      "outputs": []
    },
    {
      "cell_type": "code",
      "metadata": {
        "id": "uhP3GSLXHe5q"
      },
      "source": [
        "df = pd.read_csv(io.BytesIO(uploaded['data.csv']))\n",
        "\n",
        "X = df.drop('Bankrupt?', axis=1)\n",
        "Y = df['Bankrupt?']\n",
        "\n",
        "xTrain, xTest, yTrain, yTest = train_test_split(X,Y, random_state=42, shuffle=False)"
      ],
      "execution_count": null,
      "outputs": []
    },
    {
      "cell_type": "code",
      "metadata": {
        "colab": {
          "base_uri": "https://localhost:8080/"
        },
        "id": "kwRAMx3EHiB6",
        "outputId": "bf466e52-d84a-47fb-b4fe-75585b5ee1ed"
      },
      "source": [
        "lsvc = LinearSVC(class_weight=None, dual=True, fit_intercept=True, loss='hinge', max_iter=1000, multi_class='ovr', random_state=True)\n",
        "\n",
        "lsvc.fit(xTrain, yTrain)\n",
        "\n",
        "prediction = lsvc.predict(xTest)\n",
        "\n",
        "score = lsvc.score(xTest, yTest)\n",
        "print(\"\\nScore:\", score)"
      ],
      "execution_count": null,
      "outputs": [
        {
          "output_type": "stream",
          "text": [
            "\n",
            "Score: 0.9818181818181818\n"
          ],
          "name": "stdout"
        },
        {
          "output_type": "stream",
          "text": [
            "/usr/local/lib/python3.7/dist-packages/sklearn/svm/_base.py:947: ConvergenceWarning: Liblinear failed to converge, increase the number of iterations.\n",
            "  \"the number of iterations.\", ConvergenceWarning)\n"
          ],
          "name": "stderr"
        }
      ]
    },
    {
      "cell_type": "code",
      "metadata": {
        "colab": {
          "base_uri": "https://localhost:8080/",
          "height": 334
        },
        "id": "VMk1iZ1mQgdq",
        "outputId": "4e4e9a25-a16c-4436-cecf-a3d61a7d5f88"
      },
      "source": [
        "cm = confusion_matrix(yTest, prediction)\n",
        "print(\"Confusion Matrix:\")\n",
        "print(cm)\n",
        "\n",
        "plot_confusion_matrix(lsvc,xTest, yTest)\n",
        "plt.show()"
      ],
      "execution_count": null,
      "outputs": [
        {
          "output_type": "stream",
          "text": [
            "Confusion Matrix:\n",
            "[[1673    6]\n",
            " [  25    1]]\n"
          ],
          "name": "stdout"
        },
        {
          "output_type": "display_data",
          "data": {
            "image/png": "[encoded data removed]",
            "text/plain": [
              "<Figure size 432x288 with 2 Axes>"
            ]
          },
          "metadata": {
            "tags": [],
            "needs_background": "light"
          }
        }
      ]
    },
    {
      "cell_type": "markdown",
      "metadata": {
        "id": "ckrrtvd6Iqwo"
      },
      "source": [
        "### Isolation Forest"
      ]
    },
    {
      "cell_type": "code",
      "metadata": {
        "id": "4uqys6xWIAPj"
      },
      "source": [
        "from sklearn.ensemble import IsolationForest"
      ],
      "execution_count": null,
      "outputs": []
    },
    {
      "cell_type": "code",
      "metadata": {
        "id": "zwoUiL7_OkA0"
      },
      "source": [
        "df = pd.read_csv(io.BytesIO(uploaded['data.csv']))\n",
        "\n",
        "X = df.drop('Bankrupt?', axis=1)\n",
        "Y = df['Bankrupt?']\n",
        "\n",
        "xTrain, xTest, yTrain, yTest = train_test_split(X,Y,test_size=0.33, random_state=1)"
      ],
      "execution_count": null,
      "outputs": []
    },
    {
      "cell_type": "code",
      "metadata": {
        "id": "hQ69aVcRI4o0"
      },
      "source": [
        "iso = IsolationForest(contamination=0.1)"
      ],
      "execution_count": null,
      "outputs": []
    },
    {
      "cell_type": "code",
      "metadata": {
        "colab": {
          "base_uri": "https://localhost:8080/"
        },
        "id": "8JcQCZiII8M_",
        "outputId": "011392fd-75af-4d26-e143-25eb4b9e2024"
      },
      "source": [
        "prediction = iso.fit_predict(xTrain)\n",
        "\n",
        "mask = prediction != -1\n",
        "\n",
        "xTrain, yTrain = xTrain.iloc[mask, :], yTrain.iloc[mask]\n",
        "\n",
        "lsvc = LinearSVC(class_weight=None, dual=True, fit_intercept=True, loss='hinge', max_iter=1000, multi_class='ovr', random_state=True)\n",
        "lsvc.fit(xTrain, yTrain)\n",
        "\n",
        "score = lsvc.score(xTest, yTest)\n",
        "print(\"\\nScore:\", score)"
      ],
      "execution_count": null,
      "outputs": [
        {
          "output_type": "stream",
          "text": [
            "\n",
            "Score: 0.9546868058640604\n"
          ],
          "name": "stdout"
        },
        {
          "output_type": "stream",
          "text": [
            "/usr/local/lib/python3.7/dist-packages/sklearn/svm/_base.py:947: ConvergenceWarning: Liblinear failed to converge, increase the number of iterations.\n",
            "  \"the number of iterations.\", ConvergenceWarning)\n"
          ],
          "name": "stderr"
        }
      ]
    },
    {
      "cell_type": "code",
      "metadata": {
        "colab": {
          "base_uri": "https://localhost:8080/",
          "height": 334
        },
        "id": "odmpisnoS3b6",
        "outputId": "13fbd3ef-7239-4bc8-ffa5-dbee4a27031c"
      },
      "source": [
        "yPred = lsvc.predict(xTest)\n",
        "\n",
        "cm = confusion_matrix(yTest, yPred)\n",
        "print(\"Confusion Matrix:\")\n",
        "print(cm)\n",
        "\n",
        "plot_confusion_matrix(lsvc,xTest, yTest)\n",
        "plt.show()"
      ],
      "execution_count": null,
      "outputs": [
        {
          "output_type": "stream",
          "text": [
            "Confusion Matrix:\n",
            "[[2147   31]\n",
            " [  71    2]]\n"
          ],
          "name": "stdout"
        },
        {
          "output_type": "display_data",
          "data": {
            "image/png": "[encoded data removed]",
            "text/plain": [
              "<Figure size 432x288 with 2 Axes>"
            ]
          },
          "metadata": {
            "tags": [],
            "needs_background": "light"
          }
        }
      ]
    },
    {
      "cell_type": "markdown",
      "metadata": {
        "id": "tplyAmpeJyh4"
      },
      "source": [
        "### Minimum Covariance Determinant"
      ]
    },
    {
      "cell_type": "code",
      "metadata": {
        "id": "oxq27VE2J1f2"
      },
      "source": [
        "from sklearn.covariance import EllipticEnvelope"
      ],
      "execution_count": null,
      "outputs": []
    },
    {
      "cell_type": "code",
      "metadata": {
        "id": "nei0GtXSOluU"
      },
      "source": [
        "df = pd.read_csv(io.BytesIO(uploaded['data.csv']))\n",
        "\n",
        "X = df.drop('Bankrupt?', axis=1)\n",
        "Y = df['Bankrupt?']\n",
        "\n",
        "xTrain, xTest, yTrain, yTest = train_test_split(X,Y,test_size=0.33, random_state=1)"
      ],
      "execution_count": null,
      "outputs": []
    },
    {
      "cell_type": "code",
      "metadata": {
        "id": "ArAPQHHpKA5S"
      },
      "source": [
        "ee = EllipticEnvelope(contamination=0.01)"
      ],
      "execution_count": null,
      "outputs": []
    },
    {
      "cell_type": "code",
      "metadata": {
        "colab": {
          "base_uri": "https://localhost:8080/"
        },
        "id": "QEEMF3iPKER-",
        "outputId": "98c89438-c78b-4479-c892-6ec6cb43d915"
      },
      "source": [
        "prediction = ee.fit_predict(xTrain)\n",
        "\n",
        "mask = prediction != -1\n",
        "\n",
        "xTrain, yTrain = xTrain.iloc[mask, :], yTrain.iloc[mask]\n",
        "\n",
        "lsvc = LinearSVC(class_weight=None, dual=True, fit_intercept=True, loss='hinge', max_iter=1000, multi_class='ovr', random_state=True)\n",
        "lsvc.fit(xTrain, yTrain)\n",
        "\n",
        "score = lsvc.score(xTest, yTest)\n",
        "print(\"\\nScore:\", score)"
      ],
      "execution_count": null,
      "outputs": [
        {
          "output_type": "stream",
          "text": [
            "/usr/local/lib/python3.7/dist-packages/sklearn/covariance/_robust_covariance.py:644: UserWarning: The covariance matrix associated to your dataset is not full rank\n",
            "  warnings.warn(\"The covariance matrix associated to your dataset \"\n"
          ],
          "name": "stderr"
        },
        {
          "output_type": "stream",
          "text": [
            "\n",
            "Score: 0.8031985784095957\n"
          ],
          "name": "stdout"
        },
        {
          "output_type": "stream",
          "text": [
            "/usr/local/lib/python3.7/dist-packages/sklearn/svm/_base.py:947: ConvergenceWarning: Liblinear failed to converge, increase the number of iterations.\n",
            "  \"the number of iterations.\", ConvergenceWarning)\n"
          ],
          "name": "stderr"
        }
      ]
    },
    {
      "cell_type": "code",
      "metadata": {
        "colab": {
          "base_uri": "https://localhost:8080/",
          "height": 334
        },
        "id": "_ClaBo5cS5Rw",
        "outputId": "06a75029-2fcf-4b09-91f8-0f823b046b1d"
      },
      "source": [
        "yPred = lsvc.predict(xTest)\n",
        "\n",
        "cm = confusion_matrix(yTest, yPred)\n",
        "print(\"Confusion Matrix:\")\n",
        "print(cm)\n",
        "\n",
        "plot_confusion_matrix(lsvc,xTest, yTest)\n",
        "plt.show()"
      ],
      "execution_count": null,
      "outputs": [
        {
          "output_type": "stream",
          "text": [
            "Confusion Matrix:\n",
            "[[1788  390]\n",
            " [  53   20]]\n"
          ],
          "name": "stdout"
        },
        {
          "output_type": "display_data",
          "data": {
            "image/png": "[encoded data removed]",
            "text/plain": [
              "<Figure size 432x288 with 2 Axes>"
            ]
          },
          "metadata": {
            "tags": [],
            "needs_background": "light"
          }
        }
      ]
    },
    {
      "cell_type": "markdown",
      "metadata": {
        "id": "Nn8RRSZmKUL2"
      },
      "source": [
        "### Local Outlier Factor"
      ]
    },
    {
      "cell_type": "code",
      "metadata": {
        "id": "hAXaFGZTKOgt"
      },
      "source": [
        "from sklearn.neighbors import LocalOutlierFactor"
      ],
      "execution_count": null,
      "outputs": []
    },
    {
      "cell_type": "code",
      "metadata": {
        "id": "5YSrvyUdOm39"
      },
      "source": [
        "df = pd.read_csv(io.BytesIO(uploaded['data.csv']))\n",
        "\n",
        "X = df.drop('Bankrupt?', axis=1)\n",
        "Y = df['Bankrupt?']\n",
        "\n",
        "xTrain, xTest, yTrain, yTest = train_test_split(X,Y,test_size=0.33, random_state=1)"
      ],
      "execution_count": null,
      "outputs": []
    },
    {
      "cell_type": "code",
      "metadata": {
        "id": "AMGFTzPCKf-k"
      },
      "source": [
        "lof = LocalOutlierFactor()"
      ],
      "execution_count": null,
      "outputs": []
    },
    {
      "cell_type": "code",
      "metadata": {
        "colab": {
          "base_uri": "https://localhost:8080/"
        },
        "id": "bPpDRf2SK3Cz",
        "outputId": "c7b0bcfa-d9fc-4ad8-d840-cb1889b18921"
      },
      "source": [
        "prediction = lof.fit_predict(xTrain)\n",
        "\n",
        "mask = prediction != -1\n",
        "\n",
        "xTrain, yTrain = xTrain.iloc[mask, :], yTrain.iloc[mask]\n",
        "\n",
        "lsvc = LinearSVC(class_weight=None, dual=True, fit_intercept=True, loss='hinge', max_iter=1000, multi_class='ovr', random_state=True)\n",
        "lsvc.fit(xTrain, yTrain)\n",
        "\n",
        "prediction = lsvc.predict(xTest)\n",
        "\n",
        "score = lsvc.score(xTest, yTest)\n",
        "print(\"\\nScore:\", score)"
      ],
      "execution_count": null,
      "outputs": [
        {
          "output_type": "stream",
          "text": [
            "\n",
            "Score: 0.9644602398933807\n"
          ],
          "name": "stdout"
        },
        {
          "output_type": "stream",
          "text": [
            "/usr/local/lib/python3.7/dist-packages/sklearn/svm/_base.py:947: ConvergenceWarning: Liblinear failed to converge, increase the number of iterations.\n",
            "  \"the number of iterations.\", ConvergenceWarning)\n"
          ],
          "name": "stderr"
        }
      ]
    },
    {
      "cell_type": "code",
      "metadata": {
        "colab": {
          "base_uri": "https://localhost:8080/",
          "height": 334
        },
        "id": "OScD4wRuS7Kt",
        "outputId": "0ac17917-7dc1-44d2-8b89-0b94c0be0390"
      },
      "source": [
        "yPred = lsvc.predict(xTest)\n",
        "\n",
        "cm = confusion_matrix(yTest, yPred)\n",
        "print(\"Confusion Matrix:\")\n",
        "print(cm)\n",
        "\n",
        "plot_confusion_matrix(lsvc,xTest, yTest)\n",
        "plt.show()"
      ],
      "execution_count": null,
      "outputs": [
        {
          "output_type": "stream",
          "text": [
            "Confusion Matrix:\n",
            "[[2168   10]\n",
            " [  70    3]]\n"
          ],
          "name": "stdout"
        },
        {
          "output_type": "display_data",
          "data": {
            "image/png": "[encoded data removed]",
            "text/plain": [
              "<Figure size 432x288 with 2 Axes>"
            ]
          },
          "metadata": {
            "tags": [],
            "needs_background": "light"
          }
        }
      ]
    },
    {
      "cell_type": "markdown",
      "metadata": {
        "id": "bc8tLbnKRFC9"
      },
      "source": [
        "### One Class SVM"
      ]
    },
    {
      "cell_type": "code",
      "metadata": {
        "id": "Uc7Zr1U5RHxL"
      },
      "source": [
        "from sklearn.svm import OneClassSVM"
      ],
      "execution_count": null,
      "outputs": []
    },
    {
      "cell_type": "code",
      "metadata": {
        "id": "jnBdAepoRN-Y"
      },
      "source": [
        "df = pd.read_csv(io.BytesIO(uploaded['data.csv']))\n",
        "\n",
        "X = df.drop('Bankrupt?', axis=1)\n",
        "Y = df['Bankrupt?']\n",
        "\n",
        "xTrain, xTest, yTrain, yTest = train_test_split(X,Y,test_size=0.33, random_state=1)"
      ],
      "execution_count": null,
      "outputs": []
    },
    {
      "cell_type": "code",
      "metadata": {
        "id": "x1wbN6UuRQ7K"
      },
      "source": [
        "ee = OneClassSVM(nu=0.01)"
      ],
      "execution_count": null,
      "outputs": []
    },
    {
      "cell_type": "code",
      "metadata": {
        "colab": {
          "base_uri": "https://localhost:8080/"
        },
        "id": "WsEx86fzRXTJ",
        "outputId": "28484051-0d87-4827-d119-d5d58e68c945"
      },
      "source": [
        "prediction = ee.fit_predict(xTrain)\n",
        "\n",
        "mask = prediction != -1\n",
        "\n",
        "xTrain, yTrain = xTrain.iloc[mask, :], yTrain.iloc[mask]\n",
        "\n",
        "lsvc = LinearSVC(class_weight=None, dual=True, fit_intercept=True, loss='hinge', max_iter=1000, multi_class='ovr', random_state=True)\n",
        "lsvc.fit(xTrain, yTrain)\n",
        "\n",
        "prediction = lsvc.predict(xTest)\n",
        "\n",
        "score = lsvc.score(xTest, yTest)\n",
        "print(\"\\nScore:\", score)"
      ],
      "execution_count": null,
      "outputs": [
        {
          "output_type": "stream",
          "text": [
            "\n",
            "Score: 0.9378054198134163\n"
          ],
          "name": "stdout"
        },
        {
          "output_type": "stream",
          "text": [
            "/usr/local/lib/python3.7/dist-packages/sklearn/svm/_base.py:947: ConvergenceWarning: Liblinear failed to converge, increase the number of iterations.\n",
            "  \"the number of iterations.\", ConvergenceWarning)\n"
          ],
          "name": "stderr"
        }
      ]
    },
    {
      "cell_type": "code",
      "metadata": {
        "colab": {
          "base_uri": "https://localhost:8080/",
          "height": 334
        },
        "id": "bE07WD9RS8c1",
        "outputId": "723e8f75-d6ec-4ee1-baa8-f9a3f78f28d0"
      },
      "source": [
        "yPred = lsvc.predict(xTest)\n",
        "\n",
        "cm = confusion_matrix(yTest, yPred)\n",
        "print(\"Confusion Matrix:\")\n",
        "print(cm)\n",
        "\n",
        "plot_confusion_matrix(lsvc,xTest, yTest)\n",
        "plt.show()"
      ],
      "execution_count": null,
      "outputs": [
        {
          "output_type": "stream",
          "text": [
            "Confusion Matrix:\n",
            "[[2103   75]\n",
            " [  65    8]]\n"
          ],
          "name": "stdout"
        },
        {
          "output_type": "display_data",
          "data": {
            "image/png": "[encoded data removed]",
            "text/plain": [
              "<Figure size 432x288 with 2 Axes>"
            ]
          },
          "metadata": {
            "tags": [],
            "needs_background": "light"
          }
        }
      ]
    },
    {
      "cell_type": "markdown",
      "metadata": {
        "id": "Lnhbg97eUvq0"
      },
      "source": [
        "# Conclusions"
      ]
    },
    {
      "cell_type": "markdown",
      "metadata": {
        "id": "vJ_pkaH-fqTn"
      },
      "source": [
        "To summarise, The change in accuracy metrics such as F1 score did not show much difference and were not overly helpful, although, the Cohen Kappa score did prove that the accuracy results were not entirely truthful. Neither Outlier Detection (except Minimum Covariance Determinant) nor Random Oversampling provided any improvement for balancing the data, the accuracy scores they returned were too similar to when there was no adjustments made showing that they did not improve the balance of the data enough. Random Undersampling provided a more realistic accuracy score for the data and improved the balance of the data but was not the most effictive tactic. Both Oversampling using SMOTE and Outlier Detection using the Minimum Covariance Determinant algorithm showed the best abilty to balance the data and most realistic accuracy results with scores of ~57% and ~80% respectively. Theses two tactics were the clear winners for dealing with imbalanced data. I ran a model below which incorparated both of these tactics. "
      ]
    },
    {
      "cell_type": "code",
      "metadata": {
        "colab": {
          "base_uri": "https://localhost:8080/"
        },
        "id": "QgaHlhBNblrR",
        "outputId": "f87620f8-6deb-423e-ff83-93a194d01fb3"
      },
      "source": [
        "df = pd.read_csv(io.BytesIO(uploaded['data.csv']))\n",
        "\n",
        "X = df.drop('Bankrupt?', axis=1)\n",
        "Y = df['Bankrupt?']\n",
        "\n",
        "oversample = SMOTE()\n",
        "X, Y = oversample.fit_resample(X, Y)\n",
        "\n",
        "xTrain, xTest, yTrain, yTest = train_test_split(X,Y, random_state=42, shuffle=False)"
      ],
      "execution_count": null,
      "outputs": [
        {
          "output_type": "stream",
          "text": [
            "/usr/local/lib/python3.7/dist-packages/sklearn/utils/deprecation.py:87: FutureWarning: Function safe_indexing is deprecated; safe_indexing is deprecated in version 0.22 and will be removed in version 0.24.\n",
            "  warnings.warn(msg, category=FutureWarning)\n"
          ],
          "name": "stderr"
        }
      ]
    },
    {
      "cell_type": "code",
      "metadata": {
        "colab": {
          "base_uri": "https://localhost:8080/"
        },
        "id": "AmNQ3bq6brj1",
        "outputId": "ab0d19fc-e0f8-46d7-f94c-c6fd844a9d1b"
      },
      "source": [
        "ee = EllipticEnvelope(contamination=0.01)\n",
        "\n",
        "prediction = ee.fit_predict(xTrain)\n",
        "\n",
        "mask = prediction != -1\n",
        "\n",
        "xTrain, yTrain = xTrain[mask, :], yTrain[mask]\n",
        "\n",
        "lsvc = LinearSVC(class_weight=None, dual=True, fit_intercept=True, loss='hinge', max_iter=1000, multi_class='ovr', random_state=True)\n",
        "lsvc.fit(xTrain, yTrain)\n",
        "\n",
        "prediction = lsvc.predict(xTest)\n",
        "\n",
        "score = lsvc.score(xTest, yTest)\n",
        "print(\"\\nScore:\", score)"
      ],
      "execution_count": null,
      "outputs": [
        {
          "output_type": "stream",
          "text": [
            "/usr/local/lib/python3.7/dist-packages/sklearn/covariance/_robust_covariance.py:644: UserWarning: The covariance matrix associated to your dataset is not full rank\n",
            "  warnings.warn(\"The covariance matrix associated to your dataset \"\n"
          ],
          "name": "stderr"
        },
        {
          "output_type": "stream",
          "text": [
            "\n",
            "Score: 0.49818181818181817\n"
          ],
          "name": "stdout"
        },
        {
          "output_type": "stream",
          "text": [
            "/usr/local/lib/python3.7/dist-packages/sklearn/svm/_base.py:947: ConvergenceWarning: Liblinear failed to converge, increase the number of iterations.\n",
            "  \"the number of iterations.\", ConvergenceWarning)\n"
          ],
          "name": "stderr"
        }
      ]
    },
    {
      "cell_type": "code",
      "metadata": {
        "id": "2zh99w5aJprU"
      },
      "source": [
        ""
      ],
      "execution_count": null,
      "outputs": []
    }
  ]
}